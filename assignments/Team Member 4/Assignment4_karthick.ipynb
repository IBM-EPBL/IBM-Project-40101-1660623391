{
 "cells": [
  {
   "cell_type": "markdown",
   "id": "e4c87369",
   "metadata": {},
   "source": [
    "# Load the dataset into the tool"
   ]
  },
  {
   "cell_type": "code",
   "execution_count": 83,
   "id": "9a298b5b",
   "metadata": {},
   "outputs": [],
   "source": [
    "import pandas as pd\n",
    "import numpy as np\n",
    "import seaborn as sb\n",
    "import matplotlib.pyplot as plt\n",
    "import sklearn as sk"
   ]
  },
  {
   "cell_type": "code",
   "execution_count": 84,
   "id": "cf7ec5cd",
   "metadata": {
    "scrolled": true
   },
   "outputs": [],
   "source": [
    "data=pd.read_csv(r\"C:\\Users\\jashwanthi\\Downloads\\Mall_Customers.csv\")"
   ]
  },
  {
   "cell_type": "code",
   "execution_count": 85,
   "id": "8143e650",
   "metadata": {},
   "outputs": [
    {
     "data": {
      "text/html": [
       "<div>\n",
       "<style scoped>\n",
       "    .dataframe tbody tr th:only-of-type {\n",
       "        vertical-align: middle;\n",
       "    }\n",
       "\n",
       "    .dataframe tbody tr th {\n",
       "        vertical-align: top;\n",
       "    }\n",
       "\n",
       "    .dataframe thead th {\n",
       "        text-align: right;\n",
       "    }\n",
       "</style>\n",
       "<table border=\"1\" class=\"dataframe\">\n",
       "  <thead>\n",
       "    <tr style=\"text-align: right;\">\n",
       "      <th></th>\n",
       "      <th>CustomerID</th>\n",
       "      <th>Gender</th>\n",
       "      <th>Age</th>\n",
       "      <th>Annual Income (k$)</th>\n",
       "      <th>Spending Score (1-100)</th>\n",
       "    </tr>\n",
       "  </thead>\n",
       "  <tbody>\n",
       "    <tr>\n",
       "      <th>0</th>\n",
       "      <td>1</td>\n",
       "      <td>Male</td>\n",
       "      <td>19</td>\n",
       "      <td>15</td>\n",
       "      <td>39</td>\n",
       "    </tr>\n",
       "    <tr>\n",
       "      <th>1</th>\n",
       "      <td>2</td>\n",
       "      <td>Male</td>\n",
       "      <td>21</td>\n",
       "      <td>15</td>\n",
       "      <td>81</td>\n",
       "    </tr>\n",
       "    <tr>\n",
       "      <th>2</th>\n",
       "      <td>3</td>\n",
       "      <td>Female</td>\n",
       "      <td>20</td>\n",
       "      <td>16</td>\n",
       "      <td>6</td>\n",
       "    </tr>\n",
       "    <tr>\n",
       "      <th>3</th>\n",
       "      <td>4</td>\n",
       "      <td>Female</td>\n",
       "      <td>23</td>\n",
       "      <td>16</td>\n",
       "      <td>77</td>\n",
       "    </tr>\n",
       "    <tr>\n",
       "      <th>4</th>\n",
       "      <td>5</td>\n",
       "      <td>Female</td>\n",
       "      <td>31</td>\n",
       "      <td>17</td>\n",
       "      <td>40</td>\n",
       "    </tr>\n",
       "  </tbody>\n",
       "</table>\n",
       "</div>"
      ],
      "text/plain": [
       "   CustomerID  Gender  Age  Annual Income (k$)  Spending Score (1-100)\n",
       "0           1    Male   19                  15                      39\n",
       "1           2    Male   21                  15                      81\n",
       "2           3  Female   20                  16                       6\n",
       "3           4  Female   23                  16                      77\n",
       "4           5  Female   31                  17                      40"
      ]
     },
     "execution_count": 85,
     "metadata": {},
     "output_type": "execute_result"
    }
   ],
   "source": [
    "data.head()"
   ]
  },
  {
   "cell_type": "code",
   "execution_count": 86,
   "id": "f372553d",
   "metadata": {},
   "outputs": [
    {
     "data": {
      "text/html": [
       "<div>\n",
       "<style scoped>\n",
       "    .dataframe tbody tr th:only-of-type {\n",
       "        vertical-align: middle;\n",
       "    }\n",
       "\n",
       "    .dataframe tbody tr th {\n",
       "        vertical-align: top;\n",
       "    }\n",
       "\n",
       "    .dataframe thead th {\n",
       "        text-align: right;\n",
       "    }\n",
       "</style>\n",
       "<table border=\"1\" class=\"dataframe\">\n",
       "  <thead>\n",
       "    <tr style=\"text-align: right;\">\n",
       "      <th></th>\n",
       "      <th>CustomerID</th>\n",
       "      <th>Gender</th>\n",
       "      <th>Age</th>\n",
       "      <th>Annual Income (k$)</th>\n",
       "      <th>Spending Score (1-100)</th>\n",
       "    </tr>\n",
       "  </thead>\n",
       "  <tbody>\n",
       "    <tr>\n",
       "      <th>195</th>\n",
       "      <td>196</td>\n",
       "      <td>Female</td>\n",
       "      <td>35</td>\n",
       "      <td>120</td>\n",
       "      <td>79</td>\n",
       "    </tr>\n",
       "    <tr>\n",
       "      <th>196</th>\n",
       "      <td>197</td>\n",
       "      <td>Female</td>\n",
       "      <td>45</td>\n",
       "      <td>126</td>\n",
       "      <td>28</td>\n",
       "    </tr>\n",
       "    <tr>\n",
       "      <th>197</th>\n",
       "      <td>198</td>\n",
       "      <td>Male</td>\n",
       "      <td>32</td>\n",
       "      <td>126</td>\n",
       "      <td>74</td>\n",
       "    </tr>\n",
       "    <tr>\n",
       "      <th>198</th>\n",
       "      <td>199</td>\n",
       "      <td>Male</td>\n",
       "      <td>32</td>\n",
       "      <td>137</td>\n",
       "      <td>18</td>\n",
       "    </tr>\n",
       "    <tr>\n",
       "      <th>199</th>\n",
       "      <td>200</td>\n",
       "      <td>Male</td>\n",
       "      <td>30</td>\n",
       "      <td>137</td>\n",
       "      <td>83</td>\n",
       "    </tr>\n",
       "  </tbody>\n",
       "</table>\n",
       "</div>"
      ],
      "text/plain": [
       "     CustomerID  Gender  Age  Annual Income (k$)  Spending Score (1-100)\n",
       "195         196  Female   35                 120                      79\n",
       "196         197  Female   45                 126                      28\n",
       "197         198    Male   32                 126                      74\n",
       "198         199    Male   32                 137                      18\n",
       "199         200    Male   30                 137                      83"
      ]
     },
     "execution_count": 86,
     "metadata": {},
     "output_type": "execute_result"
    }
   ],
   "source": [
    "data.tail()"
   ]
  },
  {
   "cell_type": "code",
   "execution_count": 87,
   "id": "1e37858f",
   "metadata": {},
   "outputs": [
    {
     "data": {
      "text/plain": [
       "(200, 5)"
      ]
     },
     "execution_count": 87,
     "metadata": {},
     "output_type": "execute_result"
    }
   ],
   "source": [
    "data.shape"
   ]
  },
  {
   "cell_type": "code",
   "execution_count": 88,
   "id": "9aa97a9e",
   "metadata": {},
   "outputs": [],
   "source": [
    "import warnings\n",
    "warnings.filterwarnings(\"ignore\")"
   ]
  },
  {
   "cell_type": "markdown",
   "id": "25dde634",
   "metadata": {},
   "source": [
    "# Univariate Analysis"
   ]
  },
  {
   "cell_type": "code",
   "execution_count": 89,
   "id": "77464bc4",
   "metadata": {},
   "outputs": [
    {
     "data": {
      "text/plain": [
       "<AxesSubplot:xlabel='Annual Income (k$)', ylabel='Density'>"
      ]
     },
     "execution_count": 89,
     "metadata": {},
     "output_type": "execute_result"
    },
    {
     "data": {
      "image/png": "[encoded data removed]",
      "text/plain": [
       "<Figure size 432x288 with 1 Axes>"
      ]
     },
     "metadata": {
      "needs_background": "light"
     },
     "output_type": "display_data"
    }
   ],
   "source": [
    "sb.distplot(data[\"Annual Income (k$)\"])"
   ]
  },
  {
   "cell_type": "code",
   "execution_count": 90,
   "id": "be786d83",
   "metadata": {},
   "outputs": [
    {
     "data": {
      "text/plain": [
       "<AxesSubplot:xlabel='Spending Score (1-100)', ylabel='Count'>"
      ]
     },
     "execution_count": 90,
     "metadata": {},
     "output_type": "execute_result"
    },
    {
     "data": {
      "image/png": "[encoded data removed]",
      "text/plain": [
       "<Figure size 432x288 with 1 Axes>"
      ]
     },
     "metadata": {
      "needs_background": "light"
     },
     "output_type": "display_data"
    }
   ],
   "source": [
    "sb.histplot(data[\"Spending Score (1-100)\"])"
   ]
  },
  {
   "cell_type": "markdown",
   "id": "aeff0069",
   "metadata": {},
   "source": [
    "# Bi-variate Analysis"
   ]
  },
  {
   "cell_type": "code",
   "execution_count": 91,
   "id": "8abe7c50",
   "metadata": {},
   "outputs": [
    {
     "data": {
      "text/plain": [
       "<seaborn.axisgrid.FacetGrid at 0x2e942b55c10>"
      ]
     },
     "execution_count": 91,
     "metadata": {},
     "output_type": "execute_result"
    },
    {
     "data": {
      "image/png": "[encoded data removed]",
      "text/plain": [
       "<Figure size 432.125x360 with 1 Axes>"
      ]
     },
     "metadata": {
      "needs_background": "light"
     },
     "output_type": "display_data"
    }
   ],
   "source": [
    "sb.relplot(x=\"Annual Income (k$)\",y=\"Spending Score (1-100)\",data=data,hue=\"Gender\")"
   ]
  },
  {
   "cell_type": "markdown",
   "id": "31edde91",
   "metadata": {},
   "source": [
    "# Multi - Variate Analysis"
   ]
  },
  {
   "cell_type": "code",
   "execution_count": 92,
   "id": "b7a0d5db",
   "metadata": {},
   "outputs": [
    {
     "data": {
      "text/plain": [
       "<seaborn.axisgrid.FacetGrid at 0x2e942c33160>"
      ]
     },
     "execution_count": 92,
     "metadata": {},
     "output_type": "execute_result"
    },
    {
     "data": {
      "image/png": "[encoded data removed]",
      "text/plain": [
       "<Figure size 360x360 with 1 Axes>"
      ]
     },
     "metadata": {
      "needs_background": "light"
     },
     "output_type": "display_data"
    }
   ],
   "source": [
    "sb.catplot(x=\"Gender\",y=\"Spending Score (1-100)\",data=data)"
   ]
  },
  {
   "cell_type": "markdown",
   "id": "41b141ec",
   "metadata": {},
   "source": [
    "# Descriptive Statistics"
   ]
  },
  {
   "cell_type": "code",
   "execution_count": 93,
   "id": "2ca555e2",
   "metadata": {},
   "outputs": [],
   "source": [
    "data=pd.read_csv(r\"C:\\Users\\jashwanthi\\Downloads\\Mall_Customers.csv\")"
   ]
  },
  {
   "cell_type": "code",
   "execution_count": 94,
   "id": "f23459c2",
   "metadata": {},
   "outputs": [
    {
     "data": {
      "text/html": [
       "<div>\n",
       "<style scoped>\n",
       "    .dataframe tbody tr th:only-of-type {\n",
       "        vertical-align: middle;\n",
       "    }\n",
       "\n",
       "    .dataframe tbody tr th {\n",
       "        vertical-align: top;\n",
       "    }\n",
       "\n",
       "    .dataframe thead th {\n",
       "        text-align: right;\n",
       "    }\n",
       "</style>\n",
       "<table border=\"1\" class=\"dataframe\">\n",
       "  <thead>\n",
       "    <tr style=\"text-align: right;\">\n",
       "      <th></th>\n",
       "      <th>CustomerID</th>\n",
       "      <th>Gender</th>\n",
       "      <th>Age</th>\n",
       "      <th>Annual Income (k$)</th>\n",
       "      <th>Spending Score (1-100)</th>\n",
       "    </tr>\n",
       "  </thead>\n",
       "  <tbody>\n",
       "    <tr>\n",
       "      <th>0</th>\n",
       "      <td>1</td>\n",
       "      <td>Male</td>\n",
       "      <td>19</td>\n",
       "      <td>15</td>\n",
       "      <td>39</td>\n",
       "    </tr>\n",
       "    <tr>\n",
       "      <th>1</th>\n",
       "      <td>2</td>\n",
       "      <td>Male</td>\n",
       "      <td>21</td>\n",
       "      <td>15</td>\n",
       "      <td>81</td>\n",
       "    </tr>\n",
       "    <tr>\n",
       "      <th>2</th>\n",
       "      <td>3</td>\n",
       "      <td>Female</td>\n",
       "      <td>20</td>\n",
       "      <td>16</td>\n",
       "      <td>6</td>\n",
       "    </tr>\n",
       "    <tr>\n",
       "      <th>3</th>\n",
       "      <td>4</td>\n",
       "      <td>Female</td>\n",
       "      <td>23</td>\n",
       "      <td>16</td>\n",
       "      <td>77</td>\n",
       "    </tr>\n",
       "    <tr>\n",
       "      <th>4</th>\n",
       "      <td>5</td>\n",
       "      <td>Female</td>\n",
       "      <td>31</td>\n",
       "      <td>17</td>\n",
       "      <td>40</td>\n",
       "    </tr>\n",
       "  </tbody>\n",
       "</table>\n",
       "</div>"
      ],
      "text/plain": [
       "   CustomerID  Gender  Age  Annual Income (k$)  Spending Score (1-100)\n",
       "0           1    Male   19                  15                      39\n",
       "1           2    Male   21                  15                      81\n",
       "2           3  Female   20                  16                       6\n",
       "3           4  Female   23                  16                      77\n",
       "4           5  Female   31                  17                      40"
      ]
     },
     "execution_count": 94,
     "metadata": {},
     "output_type": "execute_result"
    }
   ],
   "source": [
    "data.head()"
   ]
  },
  {
   "cell_type": "code",
   "execution_count": 95,
   "id": "c805382c",
   "metadata": {},
   "outputs": [
    {
     "name": "stdout",
     "output_type": "stream",
     "text": [
      "<class 'pandas.core.frame.DataFrame'>\n",
      "RangeIndex: 200 entries, 0 to 199\n",
      "Data columns (total 5 columns):\n",
      " #   Column                  Non-Null Count  Dtype \n",
      "---  ------                  --------------  ----- \n",
      " 0   CustomerID              200 non-null    int64 \n",
      " 1   Gender                  200 non-null    object\n",
      " 2   Age                     200 non-null    int64 \n",
      " 3   Annual Income (k$)      200 non-null    int64 \n",
      " 4   Spending Score (1-100)  200 non-null    int64 \n",
      "dtypes: int64(4), object(1)\n",
      "memory usage: 7.9+ KB\n"
     ]
    }
   ],
   "source": [
    "data.info()"
   ]
  },
  {
   "cell_type": "code",
   "execution_count": 96,
   "id": "8d32da31",
   "metadata": {},
   "outputs": [
    {
     "data": {
      "text/html": [
       "<div>\n",
       "<style scoped>\n",
       "    .dataframe tbody tr th:only-of-type {\n",
       "        vertical-align: middle;\n",
       "    }\n",
       "\n",
       "    .dataframe tbody tr th {\n",
       "        vertical-align: top;\n",
       "    }\n",
       "\n",
       "    .dataframe thead th {\n",
       "        text-align: right;\n",
       "    }\n",
       "</style>\n",
       "<table border=\"1\" class=\"dataframe\">\n",
       "  <thead>\n",
       "    <tr style=\"text-align: right;\">\n",
       "      <th></th>\n",
       "      <th>CustomerID</th>\n",
       "      <th>Age</th>\n",
       "      <th>Annual Income (k$)</th>\n",
       "      <th>Spending Score (1-100)</th>\n",
       "    </tr>\n",
       "  </thead>\n",
       "  <tbody>\n",
       "    <tr>\n",
       "      <th>count</th>\n",
       "      <td>200.000000</td>\n",
       "      <td>200.000000</td>\n",
       "      <td>200.000000</td>\n",
       "      <td>200.000000</td>\n",
       "    </tr>\n",
       "    <tr>\n",
       "      <th>mean</th>\n",
       "      <td>100.500000</td>\n",
       "      <td>38.850000</td>\n",
       "      <td>60.560000</td>\n",
       "      <td>50.200000</td>\n",
       "    </tr>\n",
       "    <tr>\n",
       "      <th>std</th>\n",
       "      <td>57.879185</td>\n",
       "      <td>13.969007</td>\n",
       "      <td>26.264721</td>\n",
       "      <td>25.823522</td>\n",
       "    </tr>\n",
       "    <tr>\n",
       "      <th>min</th>\n",
       "      <td>1.000000</td>\n",
       "      <td>18.000000</td>\n",
       "      <td>15.000000</td>\n",
       "      <td>1.000000</td>\n",
       "    </tr>\n",
       "    <tr>\n",
       "      <th>25%</th>\n",
       "      <td>50.750000</td>\n",
       "      <td>28.750000</td>\n",
       "      <td>41.500000</td>\n",
       "      <td>34.750000</td>\n",
       "    </tr>\n",
       "    <tr>\n",
       "      <th>50%</th>\n",
       "      <td>100.500000</td>\n",
       "      <td>36.000000</td>\n",
       "      <td>61.500000</td>\n",
       "      <td>50.000000</td>\n",
       "    </tr>\n",
       "    <tr>\n",
       "      <th>75%</th>\n",
       "      <td>150.250000</td>\n",
       "      <td>49.000000</td>\n",
       "      <td>78.000000</td>\n",
       "      <td>73.000000</td>\n",
       "    </tr>\n",
       "    <tr>\n",
       "      <th>max</th>\n",
       "      <td>200.000000</td>\n",
       "      <td>70.000000</td>\n",
       "      <td>137.000000</td>\n",
       "      <td>99.000000</td>\n",
       "    </tr>\n",
       "  </tbody>\n",
       "</table>\n",
       "</div>"
      ],
      "text/plain": [
       "       CustomerID         Age  Annual Income (k$)  Spending Score (1-100)\n",
       "count  200.000000  200.000000          200.000000              200.000000\n",
       "mean   100.500000   38.850000           60.560000               50.200000\n",
       "std     57.879185   13.969007           26.264721               25.823522\n",
       "min      1.000000   18.000000           15.000000                1.000000\n",
       "25%     50.750000   28.750000           41.500000               34.750000\n",
       "50%    100.500000   36.000000           61.500000               50.000000\n",
       "75%    150.250000   49.000000           78.000000               73.000000\n",
       "max    200.000000   70.000000          137.000000               99.000000"
      ]
     },
     "execution_count": 96,
     "metadata": {},
     "output_type": "execute_result"
    }
   ],
   "source": [
    "data.describe()"
   ]
  },
  {
   "cell_type": "code",
   "execution_count": 97,
   "id": "63733d24",
   "metadata": {},
   "outputs": [
    {
     "data": {
      "text/plain": [
       "CustomerID                100.50\n",
       "Age                        38.85\n",
       "Annual Income (k$)         60.56\n",
       "Spending Score (1-100)     50.20\n",
       "dtype: float64"
      ]
     },
     "execution_count": 97,
     "metadata": {},
     "output_type": "execute_result"
    }
   ],
   "source": [
    "\n",
    "data.mean()"
   ]
  },
  {
   "cell_type": "code",
   "execution_count": 98,
   "id": "df5457de",
   "metadata": {},
   "outputs": [
    {
     "data": {
      "text/plain": [
       "38.85"
      ]
     },
     "execution_count": 98,
     "metadata": {},
     "output_type": "execute_result"
    }
   ],
   "source": [
    "data[\"Age\"].mean()"
   ]
  },
  {
   "cell_type": "code",
   "execution_count": 99,
   "id": "a7fcb89d",
   "metadata": {},
   "outputs": [
    {
     "data": {
      "text/plain": [
       "CustomerID                100.5\n",
       "Age                        36.0\n",
       "Annual Income (k$)         61.5\n",
       "Spending Score (1-100)     50.0\n",
       "dtype: float64"
      ]
     },
     "execution_count": 99,
     "metadata": {},
     "output_type": "execute_result"
    }
   ],
   "source": [
    "data.median()"
   ]
  },
  {
   "cell_type": "code",
   "execution_count": 100,
   "id": "630444cf",
   "metadata": {},
   "outputs": [
    {
     "data": {
      "text/plain": [
       "100.5"
      ]
     },
     "execution_count": 100,
     "metadata": {},
     "output_type": "execute_result"
    }
   ],
   "source": [
    "data[\"CustomerID\"].median()"
   ]
  },
  {
   "cell_type": "code",
   "execution_count": 101,
   "id": "2b393aab",
   "metadata": {},
   "outputs": [
    {
     "data": {
      "text/html": [
       "<div>\n",
       "<style scoped>\n",
       "    .dataframe tbody tr th:only-of-type {\n",
       "        vertical-align: middle;\n",
       "    }\n",
       "\n",
       "    .dataframe tbody tr th {\n",
       "        vertical-align: top;\n",
       "    }\n",
       "\n",
       "    .dataframe thead th {\n",
       "        text-align: right;\n",
       "    }\n",
       "</style>\n",
       "<table border=\"1\" class=\"dataframe\">\n",
       "  <thead>\n",
       "    <tr style=\"text-align: right;\">\n",
       "      <th></th>\n",
       "      <th>CustomerID</th>\n",
       "      <th>Gender</th>\n",
       "      <th>Age</th>\n",
       "      <th>Annual Income (k$)</th>\n",
       "      <th>Spending Score (1-100)</th>\n",
       "    </tr>\n",
       "  </thead>\n",
       "  <tbody>\n",
       "    <tr>\n",
       "      <th>0</th>\n",
       "      <td>1</td>\n",
       "      <td>Female</td>\n",
       "      <td>32.0</td>\n",
       "      <td>54.0</td>\n",
       "      <td>42.0</td>\n",
       "    </tr>\n",
       "    <tr>\n",
       "      <th>1</th>\n",
       "      <td>2</td>\n",
       "      <td>NaN</td>\n",
       "      <td>NaN</td>\n",
       "      <td>78.0</td>\n",
       "      <td>NaN</td>\n",
       "    </tr>\n",
       "    <tr>\n",
       "      <th>2</th>\n",
       "      <td>3</td>\n",
       "      <td>NaN</td>\n",
       "      <td>NaN</td>\n",
       "      <td>NaN</td>\n",
       "      <td>NaN</td>\n",
       "    </tr>\n",
       "    <tr>\n",
       "      <th>3</th>\n",
       "      <td>4</td>\n",
       "      <td>NaN</td>\n",
       "      <td>NaN</td>\n",
       "      <td>NaN</td>\n",
       "      <td>NaN</td>\n",
       "    </tr>\n",
       "    <tr>\n",
       "      <th>4</th>\n",
       "      <td>5</td>\n",
       "      <td>NaN</td>\n",
       "      <td>NaN</td>\n",
       "      <td>NaN</td>\n",
       "      <td>NaN</td>\n",
       "    </tr>\n",
       "    <tr>\n",
       "      <th>...</th>\n",
       "      <td>...</td>\n",
       "      <td>...</td>\n",
       "      <td>...</td>\n",
       "      <td>...</td>\n",
       "      <td>...</td>\n",
       "    </tr>\n",
       "    <tr>\n",
       "      <th>195</th>\n",
       "      <td>196</td>\n",
       "      <td>NaN</td>\n",
       "      <td>NaN</td>\n",
       "      <td>NaN</td>\n",
       "      <td>NaN</td>\n",
       "    </tr>\n",
       "    <tr>\n",
       "      <th>196</th>\n",
       "      <td>197</td>\n",
       "      <td>NaN</td>\n",
       "      <td>NaN</td>\n",
       "      <td>NaN</td>\n",
       "      <td>NaN</td>\n",
       "    </tr>\n",
       "    <tr>\n",
       "      <th>197</th>\n",
       "      <td>198</td>\n",
       "      <td>NaN</td>\n",
       "      <td>NaN</td>\n",
       "      <td>NaN</td>\n",
       "      <td>NaN</td>\n",
       "    </tr>\n",
       "    <tr>\n",
       "      <th>198</th>\n",
       "      <td>199</td>\n",
       "      <td>NaN</td>\n",
       "      <td>NaN</td>\n",
       "      <td>NaN</td>\n",
       "      <td>NaN</td>\n",
       "    </tr>\n",
       "    <tr>\n",
       "      <th>199</th>\n",
       "      <td>200</td>\n",
       "      <td>NaN</td>\n",
       "      <td>NaN</td>\n",
       "      <td>NaN</td>\n",
       "      <td>NaN</td>\n",
       "    </tr>\n",
       "  </tbody>\n",
       "</table>\n",
       "<p>200 rows × 5 columns</p>\n",
       "</div>"
      ],
      "text/plain": [
       "     CustomerID  Gender   Age  Annual Income (k$)  Spending Score (1-100)\n",
       "0             1  Female  32.0                54.0                    42.0\n",
       "1             2     NaN   NaN                78.0                     NaN\n",
       "2             3     NaN   NaN                 NaN                     NaN\n",
       "3             4     NaN   NaN                 NaN                     NaN\n",
       "4             5     NaN   NaN                 NaN                     NaN\n",
       "..          ...     ...   ...                 ...                     ...\n",
       "195         196     NaN   NaN                 NaN                     NaN\n",
       "196         197     NaN   NaN                 NaN                     NaN\n",
       "197         198     NaN   NaN                 NaN                     NaN\n",
       "198         199     NaN   NaN                 NaN                     NaN\n",
       "199         200     NaN   NaN                 NaN                     NaN\n",
       "\n",
       "[200 rows x 5 columns]"
      ]
     },
     "execution_count": 101,
     "metadata": {},
     "output_type": "execute_result"
    }
   ],
   "source": [
    "data.mode()"
   ]
  },
  {
   "cell_type": "code",
   "execution_count": 102,
   "id": "d4aa8857",
   "metadata": {},
   "outputs": [
    {
     "data": {
      "text/plain": [
       "CustomerID                0.000000\n",
       "Age                       0.485569\n",
       "Annual Income (k$)        0.321843\n",
       "Spending Score (1-100)   -0.047220\n",
       "dtype: float64"
      ]
     },
     "execution_count": 102,
     "metadata": {},
     "output_type": "execute_result"
    }
   ],
   "source": [
    "#skewness\n",
    "data.skew()"
   ]
  },
  {
   "cell_type": "code",
   "execution_count": 103,
   "id": "c0c4ea4d",
   "metadata": {},
   "outputs": [
    {
     "data": {
      "text/plain": [
       "CustomerID               -1.200000\n",
       "Age                      -0.671573\n",
       "Annual Income (k$)       -0.098487\n",
       "Spending Score (1-100)   -0.826629\n",
       "dtype: float64"
      ]
     },
     "execution_count": 103,
     "metadata": {},
     "output_type": "execute_result"
    }
   ],
   "source": [
    "# kurtosis\n",
    "data.kurtosis()"
   ]
  },
  {
   "cell_type": "code",
   "execution_count": 104,
   "id": "bbc7654a",
   "metadata": {},
   "outputs": [
    {
     "data": {
      "text/plain": [
       "CustomerID                 200\n",
       "Gender                    Male\n",
       "Age                         70\n",
       "Annual Income (k$)         137\n",
       "Spending Score (1-100)      99\n",
       "dtype: object"
      ]
     },
     "execution_count": 104,
     "metadata": {},
     "output_type": "execute_result"
    }
   ],
   "source": [
    "data.max()"
   ]
  },
  {
   "cell_type": "code",
   "execution_count": 105,
   "id": "b935b386",
   "metadata": {},
   "outputs": [
    {
     "data": {
      "text/plain": [
       "CustomerID                     1\n",
       "Gender                    Female\n",
       "Age                           18\n",
       "Annual Income (k$)            15\n",
       "Spending Score (1-100)         1\n",
       "dtype: object"
      ]
     },
     "execution_count": 105,
     "metadata": {},
     "output_type": "execute_result"
    }
   ],
   "source": [
    "data.min()\n"
   ]
  },
  {
   "cell_type": "code",
   "execution_count": 106,
   "id": "0c81bd14",
   "metadata": {},
   "outputs": [
    {
     "data": {
      "text/plain": [
       "Index(['CustomerID', 'Gender', 'Age', 'Annual Income (k$)',\n",
       "       'Spending Score (1-100)'],\n",
       "      dtype='object')"
      ]
     },
     "execution_count": 106,
     "metadata": {},
     "output_type": "execute_result"
    }
   ],
   "source": [
    "\n",
    "data.columns"
   ]
  },
  {
   "cell_type": "code",
   "execution_count": 107,
   "id": "7d04ca24",
   "metadata": {},
   "outputs": [
    {
     "data": {
      "text/plain": [
       "CustomerID                200\n",
       "Gender                    200\n",
       "Age                       200\n",
       "Annual Income (k$)        200\n",
       "Spending Score (1-100)    200\n",
       "dtype: int64"
      ]
     },
     "execution_count": 107,
     "metadata": {},
     "output_type": "execute_result"
    }
   ],
   "source": [
    "data.count()\n"
   ]
  },
  {
   "cell_type": "code",
   "execution_count": 108,
   "id": "f14e236a",
   "metadata": {},
   "outputs": [],
   "source": [
    "data[\"Gender\"].replace({\"Female\":0,\"Male\":1},inplace = True)"
   ]
  },
  {
   "cell_type": "code",
   "execution_count": 109,
   "id": "daa70600",
   "metadata": {},
   "outputs": [
    {
     "data": {
      "text/html": [
       "<div>\n",
       "<style scoped>\n",
       "    .dataframe tbody tr th:only-of-type {\n",
       "        vertical-align: middle;\n",
       "    }\n",
       "\n",
       "    .dataframe tbody tr th {\n",
       "        vertical-align: top;\n",
       "    }\n",
       "\n",
       "    .dataframe thead th {\n",
       "        text-align: right;\n",
       "    }\n",
       "</style>\n",
       "<table border=\"1\" class=\"dataframe\">\n",
       "  <thead>\n",
       "    <tr style=\"text-align: right;\">\n",
       "      <th></th>\n",
       "      <th>CustomerID</th>\n",
       "      <th>Gender</th>\n",
       "      <th>Age</th>\n",
       "      <th>Annual Income (k$)</th>\n",
       "      <th>Spending Score (1-100)</th>\n",
       "    </tr>\n",
       "  </thead>\n",
       "  <tbody>\n",
       "    <tr>\n",
       "      <th>0</th>\n",
       "      <td>1</td>\n",
       "      <td>1</td>\n",
       "      <td>19</td>\n",
       "      <td>15</td>\n",
       "      <td>39</td>\n",
       "    </tr>\n",
       "    <tr>\n",
       "      <th>1</th>\n",
       "      <td>2</td>\n",
       "      <td>1</td>\n",
       "      <td>21</td>\n",
       "      <td>15</td>\n",
       "      <td>81</td>\n",
       "    </tr>\n",
       "    <tr>\n",
       "      <th>2</th>\n",
       "      <td>3</td>\n",
       "      <td>0</td>\n",
       "      <td>20</td>\n",
       "      <td>16</td>\n",
       "      <td>6</td>\n",
       "    </tr>\n",
       "    <tr>\n",
       "      <th>3</th>\n",
       "      <td>4</td>\n",
       "      <td>0</td>\n",
       "      <td>23</td>\n",
       "      <td>16</td>\n",
       "      <td>77</td>\n",
       "    </tr>\n",
       "    <tr>\n",
       "      <th>4</th>\n",
       "      <td>5</td>\n",
       "      <td>0</td>\n",
       "      <td>31</td>\n",
       "      <td>17</td>\n",
       "      <td>40</td>\n",
       "    </tr>\n",
       "    <tr>\n",
       "      <th>5</th>\n",
       "      <td>6</td>\n",
       "      <td>0</td>\n",
       "      <td>22</td>\n",
       "      <td>17</td>\n",
       "      <td>76</td>\n",
       "    </tr>\n",
       "    <tr>\n",
       "      <th>6</th>\n",
       "      <td>7</td>\n",
       "      <td>0</td>\n",
       "      <td>35</td>\n",
       "      <td>18</td>\n",
       "      <td>6</td>\n",
       "    </tr>\n",
       "    <tr>\n",
       "      <th>7</th>\n",
       "      <td>8</td>\n",
       "      <td>0</td>\n",
       "      <td>23</td>\n",
       "      <td>18</td>\n",
       "      <td>94</td>\n",
       "    </tr>\n",
       "    <tr>\n",
       "      <th>8</th>\n",
       "      <td>9</td>\n",
       "      <td>1</td>\n",
       "      <td>64</td>\n",
       "      <td>19</td>\n",
       "      <td>3</td>\n",
       "    </tr>\n",
       "    <tr>\n",
       "      <th>9</th>\n",
       "      <td>10</td>\n",
       "      <td>0</td>\n",
       "      <td>30</td>\n",
       "      <td>19</td>\n",
       "      <td>72</td>\n",
       "    </tr>\n",
       "  </tbody>\n",
       "</table>\n",
       "</div>"
      ],
      "text/plain": [
       "   CustomerID  Gender  Age  Annual Income (k$)  Spending Score (1-100)\n",
       "0           1       1   19                  15                      39\n",
       "1           2       1   21                  15                      81\n",
       "2           3       0   20                  16                       6\n",
       "3           4       0   23                  16                      77\n",
       "4           5       0   31                  17                      40\n",
       "5           6       0   22                  17                      76\n",
       "6           7       0   35                  18                       6\n",
       "7           8       0   23                  18                      94\n",
       "8           9       1   64                  19                       3\n",
       "9          10       0   30                  19                      72"
      ]
     },
     "execution_count": 109,
     "metadata": {},
     "output_type": "execute_result"
    }
   ],
   "source": [
    "data.head(10)"
   ]
  },
  {
   "cell_type": "code",
   "execution_count": 110,
   "id": "77167e22",
   "metadata": {},
   "outputs": [
    {
     "data": {
      "text/html": [
       "<div>\n",
       "<style scoped>\n",
       "    .dataframe tbody tr th:only-of-type {\n",
       "        vertical-align: middle;\n",
       "    }\n",
       "\n",
       "    .dataframe tbody tr th {\n",
       "        vertical-align: top;\n",
       "    }\n",
       "\n",
       "    .dataframe thead th {\n",
       "        text-align: right;\n",
       "    }\n",
       "</style>\n",
       "<table border=\"1\" class=\"dataframe\">\n",
       "  <thead>\n",
       "    <tr style=\"text-align: right;\">\n",
       "      <th></th>\n",
       "      <th>CustomerID</th>\n",
       "      <th>Gender</th>\n",
       "      <th>Age</th>\n",
       "      <th>Annual Income (k$)</th>\n",
       "      <th>Spending Score (1-100)</th>\n",
       "    </tr>\n",
       "  </thead>\n",
       "  <tbody>\n",
       "    <tr>\n",
       "      <th>CustomerID</th>\n",
       "      <td>1.000000</td>\n",
       "      <td>0.057400</td>\n",
       "      <td>-0.026763</td>\n",
       "      <td>0.977548</td>\n",
       "      <td>0.013835</td>\n",
       "    </tr>\n",
       "    <tr>\n",
       "      <th>Gender</th>\n",
       "      <td>0.057400</td>\n",
       "      <td>1.000000</td>\n",
       "      <td>0.060867</td>\n",
       "      <td>0.056410</td>\n",
       "      <td>-0.058109</td>\n",
       "    </tr>\n",
       "    <tr>\n",
       "      <th>Age</th>\n",
       "      <td>-0.026763</td>\n",
       "      <td>0.060867</td>\n",
       "      <td>1.000000</td>\n",
       "      <td>-0.012398</td>\n",
       "      <td>-0.327227</td>\n",
       "    </tr>\n",
       "    <tr>\n",
       "      <th>Annual Income (k$)</th>\n",
       "      <td>0.977548</td>\n",
       "      <td>0.056410</td>\n",
       "      <td>-0.012398</td>\n",
       "      <td>1.000000</td>\n",
       "      <td>0.009903</td>\n",
       "    </tr>\n",
       "    <tr>\n",
       "      <th>Spending Score (1-100)</th>\n",
       "      <td>0.013835</td>\n",
       "      <td>-0.058109</td>\n",
       "      <td>-0.327227</td>\n",
       "      <td>0.009903</td>\n",
       "      <td>1.000000</td>\n",
       "    </tr>\n",
       "  </tbody>\n",
       "</table>\n",
       "</div>"
      ],
      "text/plain": [
       "                        CustomerID    Gender       Age  Annual Income (k$)  \\\n",
       "CustomerID                1.000000  0.057400 -0.026763            0.977548   \n",
       "Gender                    0.057400  1.000000  0.060867            0.056410   \n",
       "Age                      -0.026763  0.060867  1.000000           -0.012398   \n",
       "Annual Income (k$)        0.977548  0.056410 -0.012398            1.000000   \n",
       "Spending Score (1-100)    0.013835 -0.058109 -0.327227            0.009903   \n",
       "\n",
       "                        Spending Score (1-100)  \n",
       "CustomerID                            0.013835  \n",
       "Gender                               -0.058109  \n",
       "Age                                  -0.327227  \n",
       "Annual Income (k$)                    0.009903  \n",
       "Spending Score (1-100)                1.000000  "
      ]
     },
     "execution_count": 110,
     "metadata": {},
     "output_type": "execute_result"
    }
   ],
   "source": [
    "data.corr()"
   ]
  },
  {
   "cell_type": "code",
   "execution_count": 111,
   "id": "95f636bb",
   "metadata": {},
   "outputs": [
    {
     "data": {
      "text/plain": [
       "<AxesSubplot:>"
      ]
     },
     "execution_count": 111,
     "metadata": {},
     "output_type": "execute_result"
    },
    {
     "data": {
      "image/png": "[encoded data removed]",
      "text/plain": [
       "<Figure size 432x288 with 2 Axes>"
      ]
     },
     "metadata": {
      "needs_background": "light"
     },
     "output_type": "display_data"
    }
   ],
   "source": [
    "sb.heatmap(data.corr(),annot=True)"
   ]
  },
  {
   "cell_type": "markdown",
   "id": "d03e5dda",
   "metadata": {},
   "source": [
    "# Handling the missing values\n"
   ]
  },
  {
   "cell_type": "code",
   "execution_count": 112,
   "id": "0d74d19a",
   "metadata": {},
   "outputs": [
    {
     "data": {
      "text/html": [
       "<div>\n",
       "<style scoped>\n",
       "    .dataframe tbody tr th:only-of-type {\n",
       "        vertical-align: middle;\n",
       "    }\n",
       "\n",
       "    .dataframe tbody tr th {\n",
       "        vertical-align: top;\n",
       "    }\n",
       "\n",
       "    .dataframe thead th {\n",
       "        text-align: right;\n",
       "    }\n",
       "</style>\n",
       "<table border=\"1\" class=\"dataframe\">\n",
       "  <thead>\n",
       "    <tr style=\"text-align: right;\">\n",
       "      <th></th>\n",
       "      <th>CustomerID</th>\n",
       "      <th>Gender</th>\n",
       "      <th>Age</th>\n",
       "      <th>Annual Income (k$)</th>\n",
       "      <th>Spending Score (1-100)</th>\n",
       "    </tr>\n",
       "  </thead>\n",
       "  <tbody>\n",
       "    <tr>\n",
       "      <th>0</th>\n",
       "      <td>False</td>\n",
       "      <td>False</td>\n",
       "      <td>False</td>\n",
       "      <td>False</td>\n",
       "      <td>False</td>\n",
       "    </tr>\n",
       "    <tr>\n",
       "      <th>1</th>\n",
       "      <td>False</td>\n",
       "      <td>False</td>\n",
       "      <td>False</td>\n",
       "      <td>False</td>\n",
       "      <td>False</td>\n",
       "    </tr>\n",
       "    <tr>\n",
       "      <th>2</th>\n",
       "      <td>False</td>\n",
       "      <td>False</td>\n",
       "      <td>False</td>\n",
       "      <td>False</td>\n",
       "      <td>False</td>\n",
       "    </tr>\n",
       "    <tr>\n",
       "      <th>3</th>\n",
       "      <td>False</td>\n",
       "      <td>False</td>\n",
       "      <td>False</td>\n",
       "      <td>False</td>\n",
       "      <td>False</td>\n",
       "    </tr>\n",
       "    <tr>\n",
       "      <th>4</th>\n",
       "      <td>False</td>\n",
       "      <td>False</td>\n",
       "      <td>False</td>\n",
       "      <td>False</td>\n",
       "      <td>False</td>\n",
       "    </tr>\n",
       "    <tr>\n",
       "      <th>...</th>\n",
       "      <td>...</td>\n",
       "      <td>...</td>\n",
       "      <td>...</td>\n",
       "      <td>...</td>\n",
       "      <td>...</td>\n",
       "    </tr>\n",
       "    <tr>\n",
       "      <th>195</th>\n",
       "      <td>False</td>\n",
       "      <td>False</td>\n",
       "      <td>False</td>\n",
       "      <td>False</td>\n",
       "      <td>False</td>\n",
       "    </tr>\n",
       "    <tr>\n",
       "      <th>196</th>\n",
       "      <td>False</td>\n",
       "      <td>False</td>\n",
       "      <td>False</td>\n",
       "      <td>False</td>\n",
       "      <td>False</td>\n",
       "    </tr>\n",
       "    <tr>\n",
       "      <th>197</th>\n",
       "      <td>False</td>\n",
       "      <td>False</td>\n",
       "      <td>False</td>\n",
       "      <td>False</td>\n",
       "      <td>False</td>\n",
       "    </tr>\n",
       "    <tr>\n",
       "      <th>198</th>\n",
       "      <td>False</td>\n",
       "      <td>False</td>\n",
       "      <td>False</td>\n",
       "      <td>False</td>\n",
       "      <td>False</td>\n",
       "    </tr>\n",
       "    <tr>\n",
       "      <th>199</th>\n",
       "      <td>False</td>\n",
       "      <td>False</td>\n",
       "      <td>False</td>\n",
       "      <td>False</td>\n",
       "      <td>False</td>\n",
       "    </tr>\n",
       "  </tbody>\n",
       "</table>\n",
       "<p>200 rows × 5 columns</p>\n",
       "</div>"
      ],
      "text/plain": [
       "     CustomerID  Gender    Age  Annual Income (k$)  Spending Score (1-100)\n",
       "0         False   False  False               False                   False\n",
       "1         False   False  False               False                   False\n",
       "2         False   False  False               False                   False\n",
       "3         False   False  False               False                   False\n",
       "4         False   False  False               False                   False\n",
       "..          ...     ...    ...                 ...                     ...\n",
       "195       False   False  False               False                   False\n",
       "196       False   False  False               False                   False\n",
       "197       False   False  False               False                   False\n",
       "198       False   False  False               False                   False\n",
       "199       False   False  False               False                   False\n",
       "\n",
       "[200 rows x 5 columns]"
      ]
     },
     "execution_count": 112,
     "metadata": {},
     "output_type": "execute_result"
    }
   ],
   "source": [
    "data.isna()"
   ]
  },
  {
   "cell_type": "code",
   "execution_count": 113,
   "id": "c69cd31e",
   "metadata": {},
   "outputs": [
    {
     "data": {
      "text/plain": [
       "CustomerID                0\n",
       "Gender                    0\n",
       "Age                       0\n",
       "Annual Income (k$)        0\n",
       "Spending Score (1-100)    0\n",
       "dtype: int64"
      ]
     },
     "execution_count": 113,
     "metadata": {},
     "output_type": "execute_result"
    }
   ],
   "source": [
    "data.isnull().sum()"
   ]
  },
  {
   "cell_type": "code",
   "execution_count": 114,
   "id": "b04db441",
   "metadata": {},
   "outputs": [
    {
     "data": {
      "text/plain": [
       "CustomerID                False\n",
       "Gender                    False\n",
       "Age                       False\n",
       "Annual Income (k$)        False\n",
       "Spending Score (1-100)    False\n",
       "dtype: bool"
      ]
     },
     "execution_count": 114,
     "metadata": {},
     "output_type": "execute_result"
    }
   ],
   "source": [
    "data.isnull().any()"
   ]
  },
  {
   "cell_type": "code",
   "execution_count": 115,
   "id": "5c5bca5d",
   "metadata": {},
   "outputs": [
    {
     "data": {
      "text/plain": [
       "False"
      ]
     },
     "execution_count": 115,
     "metadata": {},
     "output_type": "execute_result"
    }
   ],
   "source": [
    "data.duplicated().any()"
   ]
  },
  {
   "cell_type": "code",
   "execution_count": 116,
   "id": "825ef36c",
   "metadata": {},
   "outputs": [
    {
     "data": {
      "text/html": [
       "<div>\n",
       "<style scoped>\n",
       "    .dataframe tbody tr th:only-of-type {\n",
       "        vertical-align: middle;\n",
       "    }\n",
       "\n",
       "    .dataframe tbody tr th {\n",
       "        vertical-align: top;\n",
       "    }\n",
       "\n",
       "    .dataframe thead th {\n",
       "        text-align: right;\n",
       "    }\n",
       "</style>\n",
       "<table border=\"1\" class=\"dataframe\">\n",
       "  <thead>\n",
       "    <tr style=\"text-align: right;\">\n",
       "      <th></th>\n",
       "      <th>CustomerID</th>\n",
       "      <th>Gender</th>\n",
       "      <th>Age</th>\n",
       "      <th>Annual Income (k$)</th>\n",
       "      <th>Spending Score (1-100)</th>\n",
       "    </tr>\n",
       "  </thead>\n",
       "  <tbody>\n",
       "    <tr>\n",
       "      <th>0</th>\n",
       "      <td>1</td>\n",
       "      <td>1</td>\n",
       "      <td>19</td>\n",
       "      <td>15</td>\n",
       "      <td>39</td>\n",
       "    </tr>\n",
       "    <tr>\n",
       "      <th>1</th>\n",
       "      <td>2</td>\n",
       "      <td>1</td>\n",
       "      <td>21</td>\n",
       "      <td>15</td>\n",
       "      <td>81</td>\n",
       "    </tr>\n",
       "    <tr>\n",
       "      <th>2</th>\n",
       "      <td>3</td>\n",
       "      <td>0</td>\n",
       "      <td>20</td>\n",
       "      <td>16</td>\n",
       "      <td>6</td>\n",
       "    </tr>\n",
       "    <tr>\n",
       "      <th>3</th>\n",
       "      <td>4</td>\n",
       "      <td>0</td>\n",
       "      <td>23</td>\n",
       "      <td>16</td>\n",
       "      <td>77</td>\n",
       "    </tr>\n",
       "    <tr>\n",
       "      <th>4</th>\n",
       "      <td>5</td>\n",
       "      <td>0</td>\n",
       "      <td>31</td>\n",
       "      <td>17</td>\n",
       "      <td>40</td>\n",
       "    </tr>\n",
       "    <tr>\n",
       "      <th>...</th>\n",
       "      <td>...</td>\n",
       "      <td>...</td>\n",
       "      <td>...</td>\n",
       "      <td>...</td>\n",
       "      <td>...</td>\n",
       "    </tr>\n",
       "    <tr>\n",
       "      <th>195</th>\n",
       "      <td>196</td>\n",
       "      <td>0</td>\n",
       "      <td>35</td>\n",
       "      <td>120</td>\n",
       "      <td>79</td>\n",
       "    </tr>\n",
       "    <tr>\n",
       "      <th>196</th>\n",
       "      <td>197</td>\n",
       "      <td>0</td>\n",
       "      <td>45</td>\n",
       "      <td>126</td>\n",
       "      <td>28</td>\n",
       "    </tr>\n",
       "    <tr>\n",
       "      <th>197</th>\n",
       "      <td>198</td>\n",
       "      <td>1</td>\n",
       "      <td>32</td>\n",
       "      <td>126</td>\n",
       "      <td>74</td>\n",
       "    </tr>\n",
       "    <tr>\n",
       "      <th>198</th>\n",
       "      <td>199</td>\n",
       "      <td>1</td>\n",
       "      <td>32</td>\n",
       "      <td>137</td>\n",
       "      <td>18</td>\n",
       "    </tr>\n",
       "    <tr>\n",
       "      <th>199</th>\n",
       "      <td>200</td>\n",
       "      <td>1</td>\n",
       "      <td>30</td>\n",
       "      <td>137</td>\n",
       "      <td>83</td>\n",
       "    </tr>\n",
       "  </tbody>\n",
       "</table>\n",
       "<p>200 rows × 5 columns</p>\n",
       "</div>"
      ],
      "text/plain": [
       "     CustomerID  Gender  Age  Annual Income (k$)  Spending Score (1-100)\n",
       "0             1       1   19                  15                      39\n",
       "1             2       1   21                  15                      81\n",
       "2             3       0   20                  16                       6\n",
       "3             4       0   23                  16                      77\n",
       "4             5       0   31                  17                      40\n",
       "..          ...     ...  ...                 ...                     ...\n",
       "195         196       0   35                 120                      79\n",
       "196         197       0   45                 126                      28\n",
       "197         198       1   32                 126                      74\n",
       "198         199       1   32                 137                      18\n",
       "199         200       1   30                 137                      83\n",
       "\n",
       "[200 rows x 5 columns]"
      ]
     },
     "execution_count": 116,
     "metadata": {},
     "output_type": "execute_result"
    }
   ],
   "source": [
    "data.dropna()"
   ]
  },
  {
   "cell_type": "markdown",
   "id": "518341f3",
   "metadata": {},
   "source": [
    "# Find the outliers and replace the outliers"
   ]
  },
  {
   "cell_type": "code",
   "execution_count": 117,
   "id": "38175a8d",
   "metadata": {},
   "outputs": [
    {
     "data": {
      "text/html": [
       "<div>\n",
       "<style scoped>\n",
       "    .dataframe tbody tr th:only-of-type {\n",
       "        vertical-align: middle;\n",
       "    }\n",
       "\n",
       "    .dataframe tbody tr th {\n",
       "        vertical-align: top;\n",
       "    }\n",
       "\n",
       "    .dataframe thead th {\n",
       "        text-align: right;\n",
       "    }\n",
       "</style>\n",
       "<table border=\"1\" class=\"dataframe\">\n",
       "  <thead>\n",
       "    <tr style=\"text-align: right;\">\n",
       "      <th></th>\n",
       "      <th>CustomerID</th>\n",
       "      <th>Gender</th>\n",
       "      <th>Age</th>\n",
       "      <th>Annual Income (k$)</th>\n",
       "      <th>Spending Score (1-100)</th>\n",
       "    </tr>\n",
       "  </thead>\n",
       "  <tbody>\n",
       "    <tr>\n",
       "      <th>0.75</th>\n",
       "      <td>150.25</td>\n",
       "      <td>1.0</td>\n",
       "      <td>49.00</td>\n",
       "      <td>78.0</td>\n",
       "      <td>73.00</td>\n",
       "    </tr>\n",
       "    <tr>\n",
       "      <th>0.25</th>\n",
       "      <td>50.75</td>\n",
       "      <td>0.0</td>\n",
       "      <td>28.75</td>\n",
       "      <td>41.5</td>\n",
       "      <td>34.75</td>\n",
       "    </tr>\n",
       "  </tbody>\n",
       "</table>\n",
       "</div>"
      ],
      "text/plain": [
       "      CustomerID  Gender    Age  Annual Income (k$)  Spending Score (1-100)\n",
       "0.75      150.25     1.0  49.00                78.0                   73.00\n",
       "0.25       50.75     0.0  28.75                41.5                   34.75"
      ]
     },
     "execution_count": 117,
     "metadata": {},
     "output_type": "execute_result"
    }
   ],
   "source": [
    "quantile = data.quantile(q = [0.75,0.25])\n",
    "quantile"
   ]
  },
  {
   "cell_type": "code",
   "execution_count": 118,
   "id": "266e401a",
   "metadata": {},
   "outputs": [
    {
     "data": {
      "text/plain": [
       "CustomerID                99.50\n",
       "Gender                     1.00\n",
       "Age                       20.25\n",
       "Annual Income (k$)        36.50\n",
       "Spending Score (1-100)    38.25\n",
       "dtype: float64"
      ]
     },
     "execution_count": 118,
     "metadata": {},
     "output_type": "execute_result"
    }
   ],
   "source": [
    "IQR = quantile.iloc[0] - quantile.iloc[1]\n",
    "IQR"
   ]
  },
  {
   "cell_type": "code",
   "execution_count": 119,
   "id": "d802d054",
   "metadata": {},
   "outputs": [
    {
     "data": {
      "text/plain": [
       "CustomerID                299.500\n",
       "Gender                      2.500\n",
       "Age                        79.375\n",
       "Annual Income (k$)        132.750\n",
       "Spending Score (1-100)    130.375\n",
       "dtype: float64"
      ]
     },
     "execution_count": 119,
     "metadata": {},
     "output_type": "execute_result"
    }
   ],
   "source": [
    "upper_extreme = quantile.iloc[0] + (1.5 * IQR)\n",
    "upper_extreme"
   ]
  },
  {
   "cell_type": "code",
   "execution_count": 120,
   "id": "137d1432",
   "metadata": {},
   "outputs": [
    {
     "data": {
      "text/plain": [
       "CustomerID               -98.500\n",
       "Gender                    -1.500\n",
       "Age                       -1.625\n",
       "Annual Income (k$)       -13.250\n",
       "Spending Score (1-100)   -22.625\n",
       "dtype: float64"
      ]
     },
     "execution_count": 120,
     "metadata": {},
     "output_type": "execute_result"
    }
   ],
   "source": [
    "lower = quantile.loc[0.25] - 1.5*IQR\n",
    "lower"
   ]
  },
  {
   "cell_type": "code",
   "execution_count": 121,
   "id": "c797af05",
   "metadata": {},
   "outputs": [],
   "source": [
    "data[\"Age\"] = np.where(data[\"Age\"]>50,40,data[\"Age\"])\n",
    "data[\"CustomerID\"] = np.where(data[\"CustomerID\"]>65,31,data[\"CustomerID\"])"
   ]
  },
  {
   "cell_type": "code",
   "execution_count": 122,
   "id": "a7e556d7",
   "metadata": {},
   "outputs": [
    {
     "data": {
      "text/plain": [
       "<AxesSubplot:xlabel='CustomerID'>"
      ]
     },
     "execution_count": 122,
     "metadata": {},
     "output_type": "execute_result"
    },
    {
     "data": {
      "image/png": "[encoded data removed]",
      "text/plain": [
       "<Figure size 432x288 with 1 Axes>"
      ]
     },
     "metadata": {
      "needs_background": "light"
     },
     "output_type": "display_data"
    }
   ],
   "source": [
    "sb.boxplot(data[\"CustomerID\"])"
   ]
  },
  {
   "cell_type": "code",
   "execution_count": 123,
   "id": "4536041b",
   "metadata": {},
   "outputs": [
    {
     "data": {
      "text/plain": [
       "<AxesSubplot:xlabel='Age'>"
      ]
     },
     "execution_count": 123,
     "metadata": {},
     "output_type": "execute_result"
    },
    {
     "data": {
      "image/png": "[encoded data removed]",
      "text/plain": [
       "<Figure size 432x288 with 1 Axes>"
      ]
     },
     "metadata": {
      "needs_background": "light"
     },
     "output_type": "display_data"
    }
   ],
   "source": [
    "sb.boxplot(data[\"Age\"])"
   ]
  },
  {
   "cell_type": "code",
   "execution_count": 124,
   "id": "d9468d06",
   "metadata": {},
   "outputs": [
    {
     "data": {
      "text/html": [
       "<div>\n",
       "<style scoped>\n",
       "    .dataframe tbody tr th:only-of-type {\n",
       "        vertical-align: middle;\n",
       "    }\n",
       "\n",
       "    .dataframe tbody tr th {\n",
       "        vertical-align: top;\n",
       "    }\n",
       "\n",
       "    .dataframe thead th {\n",
       "        text-align: right;\n",
       "    }\n",
       "</style>\n",
       "<table border=\"1\" class=\"dataframe\">\n",
       "  <thead>\n",
       "    <tr style=\"text-align: right;\">\n",
       "      <th></th>\n",
       "      <th>CustomerID</th>\n",
       "      <th>Age</th>\n",
       "      <th>Annual Income (k$)</th>\n",
       "      <th>Spending Score (1-100)</th>\n",
       "      <th>Gender_0</th>\n",
       "      <th>Gender_1</th>\n",
       "    </tr>\n",
       "  </thead>\n",
       "  <tbody>\n",
       "    <tr>\n",
       "      <th>0</th>\n",
       "      <td>1</td>\n",
       "      <td>19</td>\n",
       "      <td>15</td>\n",
       "      <td>39</td>\n",
       "      <td>0</td>\n",
       "      <td>1</td>\n",
       "    </tr>\n",
       "    <tr>\n",
       "      <th>1</th>\n",
       "      <td>2</td>\n",
       "      <td>21</td>\n",
       "      <td>15</td>\n",
       "      <td>81</td>\n",
       "      <td>0</td>\n",
       "      <td>1</td>\n",
       "    </tr>\n",
       "    <tr>\n",
       "      <th>2</th>\n",
       "      <td>3</td>\n",
       "      <td>20</td>\n",
       "      <td>16</td>\n",
       "      <td>6</td>\n",
       "      <td>1</td>\n",
       "      <td>0</td>\n",
       "    </tr>\n",
       "    <tr>\n",
       "      <th>3</th>\n",
       "      <td>4</td>\n",
       "      <td>23</td>\n",
       "      <td>16</td>\n",
       "      <td>77</td>\n",
       "      <td>1</td>\n",
       "      <td>0</td>\n",
       "    </tr>\n",
       "    <tr>\n",
       "      <th>4</th>\n",
       "      <td>5</td>\n",
       "      <td>31</td>\n",
       "      <td>17</td>\n",
       "      <td>40</td>\n",
       "      <td>1</td>\n",
       "      <td>0</td>\n",
       "    </tr>\n",
       "    <tr>\n",
       "      <th>...</th>\n",
       "      <td>...</td>\n",
       "      <td>...</td>\n",
       "      <td>...</td>\n",
       "      <td>...</td>\n",
       "      <td>...</td>\n",
       "      <td>...</td>\n",
       "    </tr>\n",
       "    <tr>\n",
       "      <th>195</th>\n",
       "      <td>31</td>\n",
       "      <td>35</td>\n",
       "      <td>120</td>\n",
       "      <td>79</td>\n",
       "      <td>1</td>\n",
       "      <td>0</td>\n",
       "    </tr>\n",
       "    <tr>\n",
       "      <th>196</th>\n",
       "      <td>31</td>\n",
       "      <td>45</td>\n",
       "      <td>126</td>\n",
       "      <td>28</td>\n",
       "      <td>1</td>\n",
       "      <td>0</td>\n",
       "    </tr>\n",
       "    <tr>\n",
       "      <th>197</th>\n",
       "      <td>31</td>\n",
       "      <td>32</td>\n",
       "      <td>126</td>\n",
       "      <td>74</td>\n",
       "      <td>0</td>\n",
       "      <td>1</td>\n",
       "    </tr>\n",
       "    <tr>\n",
       "      <th>198</th>\n",
       "      <td>31</td>\n",
       "      <td>32</td>\n",
       "      <td>137</td>\n",
       "      <td>18</td>\n",
       "      <td>0</td>\n",
       "      <td>1</td>\n",
       "    </tr>\n",
       "    <tr>\n",
       "      <th>199</th>\n",
       "      <td>31</td>\n",
       "      <td>30</td>\n",
       "      <td>137</td>\n",
       "      <td>83</td>\n",
       "      <td>0</td>\n",
       "      <td>1</td>\n",
       "    </tr>\n",
       "  </tbody>\n",
       "</table>\n",
       "<p>200 rows × 6 columns</p>\n",
       "</div>"
      ],
      "text/plain": [
       "     CustomerID  Age  Annual Income (k$)  Spending Score (1-100)  Gender_0  \\\n",
       "0             1   19                  15                      39         0   \n",
       "1             2   21                  15                      81         0   \n",
       "2             3   20                  16                       6         1   \n",
       "3             4   23                  16                      77         1   \n",
       "4             5   31                  17                      40         1   \n",
       "..          ...  ...                 ...                     ...       ...   \n",
       "195          31   35                 120                      79         1   \n",
       "196          31   45                 126                      28         1   \n",
       "197          31   32                 126                      74         0   \n",
       "198          31   32                 137                      18         0   \n",
       "199          31   30                 137                      83         0   \n",
       "\n",
       "     Gender_1  \n",
       "0           1  \n",
       "1           1  \n",
       "2           0  \n",
       "3           0  \n",
       "4           0  \n",
       "..        ...  \n",
       "195         0  \n",
       "196         0  \n",
       "197         1  \n",
       "198         1  \n",
       "199         1  \n",
       "\n",
       "[200 rows x 6 columns]"
      ]
     },
     "execution_count": 124,
     "metadata": {},
     "output_type": "execute_result"
    }
   ],
   "source": [
    "data_main =pd.get_dummies(data,columns=[\"Gender\"])\n",
    "data_main"
   ]
  },
  {
   "cell_type": "markdown",
   "id": "9995f9da",
   "metadata": {},
   "source": [
    "# Check for Categorical columns and perform encoding"
   ]
  },
  {
   "cell_type": "code",
   "execution_count": 125,
   "id": "9ad1ddc0",
   "metadata": {},
   "outputs": [],
   "source": [
    "from sklearn.preprocessing import LabelEncoder"
   ]
  },
  {
   "cell_type": "code",
   "execution_count": 126,
   "id": "702a3974",
   "metadata": {},
   "outputs": [],
   "source": [
    "le = LabelEncoder()"
   ]
  },
  {
   "cell_type": "code",
   "execution_count": 127,
   "id": "94062762",
   "metadata": {},
   "outputs": [],
   "source": [
    "data[\"Age\"] = le.fit_transform(data[\"Age\"])\n",
    "data[\"Annual Income (k$)\"] = le.fit_transform(data[\"Annual Income (k$)\"])\n",
    "data[\"Spending Score (1-100)\"] = le.fit_transform(data[\"Spending Score (1-100)\"])\n"
   ]
  },
  {
   "cell_type": "code",
   "execution_count": 128,
   "id": "9714bab3",
   "metadata": {},
   "outputs": [
    {
     "data": {
      "text/html": [
       "<div>\n",
       "<style scoped>\n",
       "    .dataframe tbody tr th:only-of-type {\n",
       "        vertical-align: middle;\n",
       "    }\n",
       "\n",
       "    .dataframe tbody tr th {\n",
       "        vertical-align: top;\n",
       "    }\n",
       "\n",
       "    .dataframe thead th {\n",
       "        text-align: right;\n",
       "    }\n",
       "</style>\n",
       "<table border=\"1\" class=\"dataframe\">\n",
       "  <thead>\n",
       "    <tr style=\"text-align: right;\">\n",
       "      <th></th>\n",
       "      <th>CustomerID</th>\n",
       "      <th>Gender</th>\n",
       "      <th>Age</th>\n",
       "      <th>Annual Income (k$)</th>\n",
       "      <th>Spending Score (1-100)</th>\n",
       "    </tr>\n",
       "  </thead>\n",
       "  <tbody>\n",
       "    <tr>\n",
       "      <th>0</th>\n",
       "      <td>1</td>\n",
       "      <td>1</td>\n",
       "      <td>1</td>\n",
       "      <td>0</td>\n",
       "      <td>30</td>\n",
       "    </tr>\n",
       "    <tr>\n",
       "      <th>1</th>\n",
       "      <td>2</td>\n",
       "      <td>1</td>\n",
       "      <td>3</td>\n",
       "      <td>0</td>\n",
       "      <td>67</td>\n",
       "    </tr>\n",
       "    <tr>\n",
       "      <th>2</th>\n",
       "      <td>3</td>\n",
       "      <td>0</td>\n",
       "      <td>2</td>\n",
       "      <td>1</td>\n",
       "      <td>4</td>\n",
       "    </tr>\n",
       "    <tr>\n",
       "      <th>3</th>\n",
       "      <td>4</td>\n",
       "      <td>0</td>\n",
       "      <td>5</td>\n",
       "      <td>1</td>\n",
       "      <td>64</td>\n",
       "    </tr>\n",
       "    <tr>\n",
       "      <th>4</th>\n",
       "      <td>5</td>\n",
       "      <td>0</td>\n",
       "      <td>13</td>\n",
       "      <td>2</td>\n",
       "      <td>31</td>\n",
       "    </tr>\n",
       "  </tbody>\n",
       "</table>\n",
       "</div>"
      ],
      "text/plain": [
       "   CustomerID  Gender  Age  Annual Income (k$)  Spending Score (1-100)\n",
       "0           1       1    1                   0                      30\n",
       "1           2       1    3                   0                      67\n",
       "2           3       0    2                   1                       4\n",
       "3           4       0    5                   1                      64\n",
       "4           5       0   13                   2                      31"
      ]
     },
     "execution_count": 128,
     "metadata": {},
     "output_type": "execute_result"
    }
   ],
   "source": [
    "\n",
    "data.head()"
   ]
  },
  {
   "cell_type": "code",
   "execution_count": 129,
   "id": "280f237e",
   "metadata": {},
   "outputs": [
    {
     "data": {
      "text/plain": [
       "array([1, 0], dtype=int64)"
      ]
     },
     "execution_count": 129,
     "metadata": {},
     "output_type": "execute_result"
    }
   ],
   "source": [
    "data.Gender.unique()"
   ]
  },
  {
   "cell_type": "markdown",
   "id": "5ed16de3",
   "metadata": {},
   "source": [
    "p = data.iloc[:,1:].values\n",
    "q = data.iloc[:,4].values"
   ]
  },
  {
   "cell_type": "code",
   "execution_count": 130,
   "id": "c819eb55",
   "metadata": {},
   "outputs": [],
   "source": [
    "p = data.iloc[:,1:].values\n",
    "q = data.iloc[:,4].values"
   ]
  },
  {
   "cell_type": "code",
   "execution_count": 131,
   "id": "fb8335b1",
   "metadata": {},
   "outputs": [],
   "source": [
    "from sklearn.preprocessing import OneHotEncoder\n"
   ]
  },
  {
   "cell_type": "code",
   "execution_count": 132,
   "id": "451b4fdd",
   "metadata": {},
   "outputs": [],
   "source": [
    "ohe = OneHotEncoder()"
   ]
  },
  {
   "cell_type": "code",
   "execution_count": 133,
   "id": "8b4b2b38",
   "metadata": {},
   "outputs": [
    {
     "data": {
      "text/plain": [
       "array([[0., 1., 0., ..., 0., 0., 0.],\n",
       "       [0., 0., 0., ..., 0., 0., 0.],\n",
       "       [0., 0., 1., ..., 0., 0., 0.],\n",
       "       ...,\n",
       "       [0., 0., 0., ..., 0., 0., 0.],\n",
       "       [0., 0., 0., ..., 0., 0., 0.],\n",
       "       [0., 0., 0., ..., 0., 0., 0.]])"
      ]
     },
     "execution_count": 133,
     "metadata": {},
     "output_type": "execute_result"
    }
   ],
   "source": [
    "z = ohe.fit_transform(p[:,1:]).toarray()\n",
    "z"
   ]
  },
  {
   "cell_type": "code",
   "execution_count": 134,
   "id": "de1f05c4",
   "metadata": {},
   "outputs": [
    {
     "data": {
      "text/plain": [
       "array([30, 67,  4, 64, 31, 63,  4, 79,  1, 59, 12, 83, 13, 64, 11, 66, 28,\n",
       "       55, 24, 82, 28, 60,  3, 60, 12, 68, 26, 52, 25, 72,  2, 60,  2, 77,\n",
       "       12, 67, 15, 60, 21, 62, 28, 77, 29, 52, 23, 54, 46, 38, 33, 33, 43,\n",
       "       51, 45, 51, 36, 32, 41, 37, 42, 37, 47, 46, 43, 50, 42, 50, 41, 39,\n",
       "       50, 38, 46, 33, 40, 47, 38, 45, 44, 39, 43, 33, 42, 46, 32, 35, 48,\n",
       "       37, 49, 46, 51, 37, 46, 32, 40, 31, 33, 43, 38, 41, 33, 40, 32, 39,\n",
       "       50, 46, 47, 33, 41, 37, 34, 39, 43, 45, 33, 37, 39, 41, 34, 50, 34,\n",
       "       48, 47, 31, 49, 76, 24, 64, 28, 80,  9, 62,  7, 62, 27, 58,  3, 73,\n",
       "        5, 60,  8, 59,  3, 78, 31, 72, 10, 81, 29, 61, 18, 75, 15, 73, 17,\n",
       "       63, 14, 74,  0, 65,  0, 60, 28, 69,  3, 78, 21, 62, 17, 80, 22, 53,\n",
       "       11, 62,  8, 77, 11, 71, 13, 57, 12, 75, 26, 71, 13, 73, 30, 81, 20,\n",
       "       56, 15, 70, 19, 57,  6, 76, 14, 66, 23, 61, 16, 69], dtype=int64)"
      ]
     },
     "execution_count": 134,
     "metadata": {},
     "output_type": "execute_result"
    }
   ],
   "source": [
    "q\n"
   ]
  },
  {
   "cell_type": "markdown",
   "id": "f5b039e9",
   "metadata": {},
   "source": [
    "# Scaling the data"
   ]
  },
  {
   "cell_type": "code",
   "execution_count": 135,
   "id": "84310136",
   "metadata": {},
   "outputs": [],
   "source": [
    "from sklearn.preprocessing import scale"
   ]
  },
  {
   "cell_type": "code",
   "execution_count": 136,
   "id": "2fc7a360",
   "metadata": {},
   "outputs": [
    {
     "data": {
      "text/plain": [
       "array([[ 1.12815215, -1.79273424, -1.88641296, -0.52396837],\n",
       "       [ 1.12815215, -1.56522989, -1.88641296,  1.18337022],\n",
       "       [-0.88640526, -1.67898207, -1.82738877, -1.72371982],\n",
       "       [-0.88640526, -1.33772555, -1.82738877,  1.04493737],\n",
       "       [-0.88640526, -0.42770817, -1.76836459, -0.47782409],\n",
       "       [-0.88640526, -1.45147772, -1.76836459,  0.99879308],\n",
       "       [-0.88640526,  0.02730052, -1.7093404 , -1.72371982],\n",
       "       [-0.88640526, -1.33772555, -1.7093404 ,  1.73710166],\n",
       "       [ 1.12815215,  0.59606138, -1.65031622, -1.86215268],\n",
       "       [-0.88640526, -0.54146034, -1.65031622,  0.81421593],\n",
       "       [ 1.12815215,  0.59606138, -1.65031622, -1.35456553],\n",
       "       [-0.88640526,  0.02730052, -1.65031622,  1.92167881],\n",
       "       [-0.88640526,  0.59606138, -1.59129203, -1.30842124],\n",
       "       [-0.88640526, -1.22397338, -1.59129203,  1.04493737],\n",
       "       [ 1.12815215,  0.25480487, -1.59129203, -1.40070981],\n",
       "       [ 1.12815215, -1.45147772, -1.59129203,  1.13722594],\n",
       "       [-0.88640526,  0.02730052, -1.53226784, -0.61625694],\n",
       "       [ 1.12815215, -1.67898207, -1.53226784,  0.62963879],\n",
       "       [ 1.12815215,  0.59606138, -1.47324366, -0.80083409],\n",
       "       [-0.88640526,  0.02730052, -1.47324366,  1.87553452],\n",
       "       [ 1.12815215,  0.02730052, -1.41421947, -0.61625694],\n",
       "       [ 1.12815215, -1.1102212 , -1.41421947,  0.86036022],\n",
       "       [-0.88640526,  1.27857442, -1.35519529, -1.7698641 ],\n",
       "       [ 1.12815215, -0.42770817, -1.35519529,  0.86036022],\n",
       "       [-0.88640526,  0.59606138, -1.2961711 , -1.35456553],\n",
       "       [ 1.12815215, -0.65521251, -1.2961711 ,  1.22951451],\n",
       "       [-0.88640526,  1.16482225, -1.2961711 , -0.70854552],\n",
       "       [ 1.12815215,  0.02730052, -1.2961711 ,  0.49120593],\n",
       "       [-0.88640526,  0.59606138, -1.23714692, -0.7546898 ],\n",
       "       [-0.88640526, -1.33772555, -1.23714692,  1.41409166],\n",
       "       [ 1.12815215,  0.59606138, -1.17812273, -1.81600839],\n",
       "       [-0.88640526, -1.56522989, -1.17812273,  0.86036022],\n",
       "       [ 1.12815215,  0.59606138, -1.11909855, -1.81600839],\n",
       "       [ 1.12815215, -1.90648641, -1.11909855,  1.64481309],\n",
       "       [-0.88640526,  1.61983094, -1.11909855, -1.35456553],\n",
       "       [-0.88640526, -1.56522989, -1.11909855,  1.18337022],\n",
       "       [-0.88640526,  0.82356573, -1.06007436, -1.21613267],\n",
       "       [-0.88640526, -0.54146034, -1.06007436,  0.86036022],\n",
       "       [-0.88640526,  0.14105269, -1.00105018, -0.93926695],\n",
       "       [-0.88640526, -1.67898207, -1.00105018,  0.95264879],\n",
       "       [-0.88640526,  0.59606138, -0.94202599, -0.61625694],\n",
       "       [ 1.12815215, -1.22397338, -0.94202599,  1.64481309],\n",
       "       [ 1.12815215,  1.50607876, -0.88300181, -0.57011266],\n",
       "       [-0.88640526, -0.42770817, -0.88300181,  0.49120593],\n",
       "       [-0.88640526,  1.61983094, -0.88300181, -0.84697838],\n",
       "       [-0.88640526, -1.22397338, -0.88300181,  0.5834945 ],\n",
       "       [-0.88640526,  1.73358311, -0.82397762,  0.21434021],\n",
       "       [-0.88640526, -0.88271686, -0.82397762, -0.15481408],\n",
       "       [-0.88640526, -0.65521251, -0.82397762, -0.38553551],\n",
       "       [-0.88640526, -0.42770817, -0.82397762, -0.38553551],\n",
       "       [-0.88640526,  1.61983094, -0.76495344,  0.07590735],\n",
       "       [ 1.12815215, -0.20020382, -0.76495344,  0.44506164],\n",
       "       [-0.88640526, -0.42770817, -0.70592925,  0.16819592],\n",
       "       [ 1.12815215,  0.59606138, -0.70592925,  0.44506164],\n",
       "       [-0.88640526,  1.73358311, -0.70592925, -0.24710265],\n",
       "       [ 1.12815215,  1.39232659, -0.70592925, -0.4316798 ],\n",
       "       [-0.88640526,  0.59606138, -0.64690507, -0.01638122],\n",
       "       [ 1.12815215,  0.59606138, -0.64690507, -0.20095837],\n",
       "       [-0.88640526, -0.88271686, -0.58788088,  0.02976306],\n",
       "       [ 1.12815215,  0.59606138, -0.58788088, -0.20095837],\n",
       "       [ 1.12815215,  0.59606138, -0.58788088,  0.2604845 ],\n",
       "       [ 1.12815215, -1.79273424, -0.58788088,  0.21434021],\n",
       "       [-0.88640526,  0.59606138, -0.5288567 ,  0.07590735],\n",
       "       [-0.88640526,  0.59606138, -0.5288567 ,  0.39891736],\n",
       "       [ 1.12815215,  0.59606138, -0.46983251,  0.02976306],\n",
       "       [ 1.12815215, -1.90648641, -0.46983251,  0.39891736],\n",
       "       [-0.88640526,  0.9373179 , -0.46983251, -0.01638122],\n",
       "       [-0.88640526,  0.59606138, -0.46983251, -0.10866979],\n",
       "       [ 1.12815215, -1.79273424, -0.46983251,  0.39891736],\n",
       "       [-0.88640526, -0.313956  , -0.46983251, -0.15481408],\n",
       "       [ 1.12815215,  0.59606138, -0.41080833,  0.21434021],\n",
       "       [-0.88640526,  1.39232659, -0.41080833, -0.38553551],\n",
       "       [-0.88640526,  0.59606138, -0.35178414, -0.06252551],\n",
       "       [-0.88640526,  0.59606138, -0.35178414,  0.2604845 ],\n",
       "       [ 1.12815215,  0.59606138, -0.29275996, -0.15481408],\n",
       "       [ 1.12815215, -0.99646903, -0.29275996,  0.16819592],\n",
       "       [-0.88640526,  1.16482225, -0.29275996,  0.12205164],\n",
       "       [ 1.12815215,  0.59606138, -0.29275996, -0.10866979],\n",
       "       [-0.88640526, -1.33772555, -0.29275996,  0.07590735],\n",
       "       [-0.88640526,  1.61983094, -0.29275996, -0.38553551],\n",
       "       [ 1.12815215,  0.59606138, -0.29275996,  0.02976306],\n",
       "       [ 1.12815215,  0.36855704, -0.29275996,  0.21434021],\n",
       "       [ 1.12815215,  0.59606138, -0.29275996, -0.4316798 ],\n",
       "       [-0.88640526,  1.27857442, -0.29275996, -0.29324694],\n",
       "       [-0.88640526, -1.56522989, -0.29275996,  0.30662878],\n",
       "       [ 1.12815215,  1.50607876, -0.29275996, -0.20095837],\n",
       "       [-0.88640526,  0.59606138, -0.23373577,  0.35277307],\n",
       "       [-0.88640526, -1.45147772, -0.23373577,  0.21434021],\n",
       "       [-0.88640526, -0.08645165, -0.17471159,  0.44506164],\n",
       "       [-0.88640526,  1.73358311, -0.17471159, -0.20095837],\n",
       "       [-0.88640526,  0.59606138, -0.1156874 ,  0.21434021],\n",
       "       [ 1.12815215, -1.90648641, -0.1156874 , -0.4316798 ],\n",
       "       [ 1.12815215,  1.50607876, -0.05666322, -0.06252551],\n",
       "       [-0.88640526,  0.59606138, -0.05666322, -0.47782409],\n",
       "       [-0.88640526, -0.313956  , -0.05666322, -0.38553551],\n",
       "       [ 1.12815215, -1.22397338, -0.05666322,  0.07590735],\n",
       "       [-0.88640526,  1.39232659, -0.05666322, -0.15481408],\n",
       "       [-0.88640526, -0.88271686, -0.05666322, -0.01638122],\n",
       "       [ 1.12815215,  1.50607876,  0.00236097, -0.38553551],\n",
       "       [ 1.12815215, -1.67898207,  0.00236097, -0.06252551],\n",
       "       [-0.88640526, -1.33772555,  0.06138515, -0.4316798 ],\n",
       "       [-0.88640526,  1.61983094,  0.06138515, -0.10866979],\n",
       "       [ 1.12815215,  0.59606138,  0.06138515,  0.39891736],\n",
       "       [ 1.12815215, -0.99646903,  0.06138515,  0.21434021],\n",
       "       [ 1.12815215,  1.61983094,  0.06138515,  0.2604845 ],\n",
       "       [-0.88640526, -1.56522989,  0.06138515, -0.38553551],\n",
       "       [-0.88640526,  0.59606138,  0.12040934, -0.01638122],\n",
       "       [ 1.12815215,  0.59606138,  0.12040934, -0.20095837],\n",
       "       [ 1.12815215,  0.59606138,  0.12040934, -0.33939123],\n",
       "       [ 1.12815215,  0.59606138,  0.12040934, -0.10866979],\n",
       "       [ 1.12815215,  0.59606138,  0.12040934,  0.07590735],\n",
       "       [-0.88640526, -1.79273424,  0.12040934,  0.16819592],\n",
       "       [-0.88640526,  0.36855704,  0.17943352, -0.38553551],\n",
       "       [ 1.12815215, -1.79273424,  0.17943352, -0.20095837],\n",
       "       [-0.88640526, -1.90648641,  0.23845771, -0.10866979],\n",
       "       [-0.88640526, -1.79273424,  0.23845771, -0.01638122],\n",
       "       [-0.88640526,  0.59606138,  0.23845771, -0.33939123],\n",
       "       [-0.88640526,  1.61983094,  0.23845771,  0.39891736],\n",
       "       [-0.88640526,  0.59606138,  0.29748189, -0.33939123],\n",
       "       [-0.88640526,  1.73358311,  0.29748189,  0.30662878],\n",
       "       [ 1.12815215, -0.88271686,  0.29748189,  0.2604845 ],\n",
       "       [-0.88640526,  0.36855704,  0.29748189, -0.47782409],\n",
       "       [-0.88640526,  0.59606138,  0.35650608,  0.35277307],\n",
       "       [ 1.12815215,  0.48230921,  0.35650608,  1.5986688 ],\n",
       "       [-0.88640526, -1.33772555,  0.41553026, -0.80083409],\n",
       "       [-0.88640526, -0.42770817,  0.41553026,  1.04493737],\n",
       "       [ 1.12815215,  0.9373179 ,  0.47455445, -0.61625694],\n",
       "       [ 1.12815215,  0.59606138,  0.47455445,  1.78324595],\n",
       "       [ 1.12815215,  0.59606138,  0.47455445, -1.49299839],\n",
       "       [ 1.12815215,  0.36855704,  0.47455445,  0.95264879],\n",
       "       [ 1.12815215,  1.39232659,  0.47455445, -1.58528696],\n",
       "       [ 1.12815215,  0.48230921,  0.47455445,  0.95264879],\n",
       "       [-0.88640526, -1.1102212 ,  0.53357863, -0.66240123],\n",
       "       [-0.88640526, -0.42770817,  0.53357863,  0.76807165],\n",
       "       [ 1.12815215, -1.67898207,  0.59260282, -1.7698641 ],\n",
       "       [-0.88640526, -0.65521251,  0.59260282,  1.46023594],\n",
       "       [-0.88640526,  1.05107007,  0.59260282, -1.67757553],\n",
       "       [ 1.12815215, -0.313956  ,  0.59260282,  0.86036022],\n",
       "       [ 1.12815215, -1.79273424,  0.651627  , -1.53914267],\n",
       "       [-0.88640526,  0.02730052,  0.651627  ,  0.81421593],\n",
       "       [-0.88640526,  0.59606138,  0.71065119, -1.7698641 ],\n",
       "       [ 1.12815215, -0.313956  ,  0.71065119,  1.69095738],\n",
       "       [-0.88640526, -0.76896469,  0.76967537, -0.47782409],\n",
       "       [-0.88640526, -0.313956  ,  0.76967537,  1.41409166],\n",
       "       [ 1.12815215, -1.1102212 ,  0.82869956, -1.4468541 ],\n",
       "       [ 1.12815215, -0.76896469,  0.82869956,  1.82939023],\n",
       "       [ 1.12815215,  1.50607876,  0.82869956, -0.57011266],\n",
       "       [-0.88640526, -0.313956  ,  0.82869956,  0.90650451],\n",
       "       [-0.88640526, -0.08645165,  0.88772374, -1.07769981],\n",
       "       [ 1.12815215, -0.08645165,  0.88772374,  1.55252452],\n",
       "       [ 1.12815215,  0.9373179 ,  0.88772374, -1.21613267],\n",
       "       [ 1.12815215,  0.48230921,  0.88772374,  1.46023594],\n",
       "       [-0.88640526,  1.05107007,  0.88772374, -1.1238441 ],\n",
       "       [-0.88640526,  0.36855704,  0.88772374,  0.99879308],\n",
       "       [-0.88640526,  1.39232659,  0.88772374, -1.26227695],\n",
       "       [-0.88640526, -0.88271686,  0.88772374,  1.50638023],\n",
       "       [ 1.12815215,  0.25480487,  0.88772374, -1.90829696],\n",
       "       [-0.88640526, -0.54146034,  0.88772374,  1.09108165],\n",
       "       [ 1.12815215, -0.08645165,  0.88772374, -1.90829696],\n",
       "       [-0.88640526, -0.54146034,  0.88772374,  0.86036022],\n",
       "       [-0.88640526,  0.59606138,  0.94674793, -0.61625694],\n",
       "       [-0.88640526, -0.65521251,  0.94674793,  1.2756588 ],\n",
       "       [ 1.12815215, -1.79273424,  1.00577211, -1.7698641 ],\n",
       "       [-0.88640526, -0.42770817,  1.00577211,  1.69095738],\n",
       "       [ 1.12815215,  1.73358311,  1.0647963 , -0.93926695],\n",
       "       [-0.88640526,  0.14105269,  1.0647963 ,  0.95264879],\n",
       "       [ 1.12815215,  0.82356573,  1.12382048, -1.1238441 ],\n",
       "       [-0.88640526, -0.20020382,  1.12382048,  1.78324595],\n",
       "       [-0.88640526,  0.14105269,  1.18284467, -0.89312266],\n",
       "       [ 1.12815215, -0.313956  ,  1.18284467,  0.53735022],\n",
       "       [ 1.12815215,  0.59606138,  1.18284467, -1.40070981],\n",
       "       [ 1.12815215, -0.76896469,  1.18284467,  0.95264879],\n",
       "       [ 1.12815215,  0.14105269,  1.18284467, -1.53914267],\n",
       "       [ 1.12815215,  0.14105269,  1.18284467,  1.64481309],\n",
       "       [-0.88640526,  0.59606138,  1.24186885, -1.40070981],\n",
       "       [-0.88640526, -0.54146034,  1.24186885,  1.36794737],\n",
       "       [ 1.12815215,  0.59606138,  1.24186885, -1.30842124],\n",
       "       [ 1.12815215, -0.88271686,  1.24186885,  0.72192736],\n",
       "       [ 1.12815215,  0.59606138,  1.30089304, -1.35456553],\n",
       "       [ 1.12815215,  0.02730052,  1.30089304,  1.55252452],\n",
       "       [-0.88640526,  0.25480487,  1.35991722, -0.70854552],\n",
       "       [-0.88640526, -0.313956  ,  1.35991722,  1.36794737],\n",
       "       [ 1.12815215,  1.27857442,  1.41894141, -1.30842124],\n",
       "       [-0.88640526, -0.65521251,  1.41894141,  1.46023594],\n",
       "       [-0.88640526,  0.70981356,  1.47796559, -0.52396837],\n",
       "       [ 1.12815215, -0.54146034,  1.47796559,  1.82939023],\n",
       "       [-0.88640526,  0.59606138,  1.53698978, -0.98541124],\n",
       "       [ 1.12815215, -0.76896469,  1.53698978,  0.67578307],\n",
       "       [-0.88640526,  0.70981356,  1.59601396, -1.21613267],\n",
       "       [-0.88640526,  0.14105269,  1.59601396,  1.32180308],\n",
       "       [-0.88640526, -0.08645165,  1.59601396, -1.03155552],\n",
       "       [-0.88640526, -0.313956  ,  1.59601396,  0.72192736],\n",
       "       [ 1.12815215, -0.20020382,  1.65503815, -1.63143125],\n",
       "       [-0.88640526,  0.36855704,  1.65503815,  1.5986688 ],\n",
       "       [-0.88640526,  1.39232659,  1.71406233, -1.26227695],\n",
       "       [-0.88640526,  0.02730052,  1.71406233,  1.13722594],\n",
       "       [-0.88640526,  1.16482225,  1.77308652, -0.84697838],\n",
       "       [ 1.12815215, -0.313956  ,  1.77308652,  0.90650451],\n",
       "       [ 1.12815215, -0.313956  ,  1.83211071, -1.16998838],\n",
       "       [ 1.12815215, -0.54146034,  1.83211071,  1.2756588 ]])"
      ]
     },
     "execution_count": 136,
     "metadata": {},
     "output_type": "execute_result"
    }
   ],
   "source": [
    "x=scale(p)\n",
    "x"
   ]
  },
  {
   "cell_type": "markdown",
   "id": "176f20d5",
   "metadata": {},
   "source": [
    "# Perform any of the clustering algorithms"
   ]
  },
  {
   "cell_type": "code",
   "execution_count": 183,
   "id": "16611f62",
   "metadata": {},
   "outputs": [],
   "source": [
    "from sklearn.cluster import KMeans"
   ]
  },
  {
   "cell_type": "code",
   "execution_count": 185,
   "id": "cd4ce738",
   "metadata": {},
   "outputs": [
    {
     "data": {
      "text/plain": [
       "array([2, 2, 4, 4, 4, 4, 3, 4, 0, 4, 0, 4, 3, 4, 0, 2, 4, 2, 0, 4, 0, 2,\n",
       "       3, 2, 3, 2, 3, 2, 3, 4, 0, 4, 0, 2, 3, 4, 3, 4, 3, 4, 3, 2, 0, 4,\n",
       "       3, 4, 3, 4, 4, 4, 3, 2, 4, 0, 3, 0, 3, 0, 4, 0, 0, 2, 3, 3, 0, 2,\n",
       "       3, 3, 2, 4, 0, 3, 3, 3, 0, 2, 3, 0, 4, 3, 0, 0, 0, 3, 4, 0, 3, 4,\n",
       "       4, 3, 3, 2, 0, 3, 4, 2, 3, 4, 0, 2, 4, 3, 0, 2, 0, 4, 3, 0, 0, 0,\n",
       "       0, 4, 3, 2, 4, 4, 3, 3, 3, 3, 2, 3, 3, 1, 4, 1, 0, 1, 0, 1, 0, 1,\n",
       "       4, 1, 0, 1, 3, 1, 0, 1, 3, 1, 4, 1, 0, 1, 0, 1, 3, 1, 0, 1, 3, 1,\n",
       "       3, 1, 0, 1, 0, 1, 3, 1, 0, 1, 0, 1, 0, 1, 3, 1, 0, 1, 0, 1, 3, 1,\n",
       "       0, 1, 0, 1, 3, 1, 0, 1, 3, 1, 3, 1, 3, 1, 3, 1, 0, 1, 3, 1, 3, 1,\n",
       "       0, 1])"
      ]
     },
     "execution_count": 185,
     "metadata": {},
     "output_type": "execute_result"
    }
   ],
   "source": [
    "Kmeans = KMeans(n_clusters=5)\n",
    "y = Kmeans.fit_predict(x)\n",
    "y"
   ]
  },
  {
   "cell_type": "markdown",
   "id": "568b05c7",
   "metadata": {},
   "source": [
    "# Add the cluster data with the primary dataset"
   ]
  },
  {
   "cell_type": "code",
   "execution_count": 180,
   "id": "dd34afdd",
   "metadata": {},
   "outputs": [
    {
     "data": {
      "text/html": [
       "<div>\n",
       "<style scoped>\n",
       "    .dataframe tbody tr th:only-of-type {\n",
       "        vertical-align: middle;\n",
       "    }\n",
       "\n",
       "    .dataframe tbody tr th {\n",
       "        vertical-align: top;\n",
       "    }\n",
       "\n",
       "    .dataframe thead th {\n",
       "        text-align: right;\n",
       "    }\n",
       "</style>\n",
       "<table border=\"1\" class=\"dataframe\">\n",
       "  <thead>\n",
       "    <tr style=\"text-align: right;\">\n",
       "      <th></th>\n",
       "      <th>CustomerID</th>\n",
       "      <th>Gender</th>\n",
       "      <th>Age</th>\n",
       "      <th>Annual Income (k$)</th>\n",
       "      <th>Spending Score (1-100)</th>\n",
       "      <th>Cluster</th>\n",
       "    </tr>\n",
       "  </thead>\n",
       "  <tbody>\n",
       "    <tr>\n",
       "      <th>0</th>\n",
       "      <td>1</td>\n",
       "      <td>1</td>\n",
       "      <td>1</td>\n",
       "      <td>0</td>\n",
       "      <td>30</td>\n",
       "      <td>KMeans(n_clusters=2)</td>\n",
       "    </tr>\n",
       "    <tr>\n",
       "      <th>1</th>\n",
       "      <td>2</td>\n",
       "      <td>1</td>\n",
       "      <td>3</td>\n",
       "      <td>0</td>\n",
       "      <td>67</td>\n",
       "      <td>KMeans(n_clusters=2)</td>\n",
       "    </tr>\n",
       "    <tr>\n",
       "      <th>2</th>\n",
       "      <td>3</td>\n",
       "      <td>0</td>\n",
       "      <td>2</td>\n",
       "      <td>1</td>\n",
       "      <td>4</td>\n",
       "      <td>KMeans(n_clusters=2)</td>\n",
       "    </tr>\n",
       "    <tr>\n",
       "      <th>3</th>\n",
       "      <td>4</td>\n",
       "      <td>0</td>\n",
       "      <td>5</td>\n",
       "      <td>1</td>\n",
       "      <td>64</td>\n",
       "      <td>KMeans(n_clusters=2)</td>\n",
       "    </tr>\n",
       "    <tr>\n",
       "      <th>4</th>\n",
       "      <td>5</td>\n",
       "      <td>0</td>\n",
       "      <td>13</td>\n",
       "      <td>2</td>\n",
       "      <td>31</td>\n",
       "      <td>KMeans(n_clusters=2)</td>\n",
       "    </tr>\n",
       "  </tbody>\n",
       "</table>\n",
       "</div>"
      ],
      "text/plain": [
       "   CustomerID  Gender  Age  Annual Income (k$)  Spending Score (1-100)  \\\n",
       "0           1       1    1                   0                      30   \n",
       "1           2       1    3                   0                      67   \n",
       "2           3       0    2                   1                       4   \n",
       "3           4       0    5                   1                      64   \n",
       "4           5       0   13                   2                      31   \n",
       "\n",
       "                Cluster  \n",
       "0  KMeans(n_clusters=2)  \n",
       "1  KMeans(n_clusters=2)  \n",
       "2  KMeans(n_clusters=2)  \n",
       "3  KMeans(n_clusters=2)  \n",
       "4  KMeans(n_clusters=2)  "
      ]
     },
     "execution_count": 180,
     "metadata": {},
     "output_type": "execute_result"
    }
   ],
   "source": [
    "data['Cluster']=kmeans\n",
    "data.head()"
   ]
  },
  {
   "cell_type": "markdown",
   "id": "6920b748",
   "metadata": {},
   "source": [
    "# Split the data into dependent and independent variables"
   ]
  },
  {
   "cell_type": "code",
   "execution_count": 65,
   "id": "95e36ec7",
   "metadata": {},
   "outputs": [],
   "source": [
    "l=data.iloc[:,1:4].values"
   ]
  },
  {
   "cell_type": "code",
   "execution_count": 66,
   "id": "49643cf5",
   "metadata": {},
   "outputs": [
    {
     "data": {
      "text/plain": [
       "array([[ 1.12815215, -1.79273424, -1.88641296],\n",
       "       [ 1.12815215, -1.56522989, -1.88641296],\n",
       "       [-0.88640526, -1.67898207, -1.82738877],\n",
       "       [-0.88640526, -1.33772555, -1.82738877],\n",
       "       [-0.88640526, -0.42770817, -1.76836459],\n",
       "       [-0.88640526, -1.45147772, -1.76836459],\n",
       "       [-0.88640526,  0.02730052, -1.7093404 ],\n",
       "       [-0.88640526, -1.33772555, -1.7093404 ],\n",
       "       [ 1.12815215,  0.59606138, -1.65031622],\n",
       "       [-0.88640526, -0.54146034, -1.65031622],\n",
       "       [ 1.12815215,  0.59606138, -1.65031622],\n",
       "       [-0.88640526,  0.02730052, -1.65031622],\n",
       "       [-0.88640526,  0.59606138, -1.59129203],\n",
       "       [-0.88640526, -1.22397338, -1.59129203],\n",
       "       [ 1.12815215,  0.25480487, -1.59129203],\n",
       "       [ 1.12815215, -1.45147772, -1.59129203],\n",
       "       [-0.88640526,  0.02730052, -1.53226784],\n",
       "       [ 1.12815215, -1.67898207, -1.53226784],\n",
       "       [ 1.12815215,  0.59606138, -1.47324366],\n",
       "       [-0.88640526,  0.02730052, -1.47324366],\n",
       "       [ 1.12815215,  0.02730052, -1.41421947],\n",
       "       [ 1.12815215, -1.1102212 , -1.41421947],\n",
       "       [-0.88640526,  1.27857442, -1.35519529],\n",
       "       [ 1.12815215, -0.42770817, -1.35519529],\n",
       "       [-0.88640526,  0.59606138, -1.2961711 ],\n",
       "       [ 1.12815215, -0.65521251, -1.2961711 ],\n",
       "       [-0.88640526,  1.16482225, -1.2961711 ],\n",
       "       [ 1.12815215,  0.02730052, -1.2961711 ],\n",
       "       [-0.88640526,  0.59606138, -1.23714692],\n",
       "       [-0.88640526, -1.33772555, -1.23714692],\n",
       "       [ 1.12815215,  0.59606138, -1.17812273],\n",
       "       [-0.88640526, -1.56522989, -1.17812273],\n",
       "       [ 1.12815215,  0.59606138, -1.11909855],\n",
       "       [ 1.12815215, -1.90648641, -1.11909855],\n",
       "       [-0.88640526,  1.61983094, -1.11909855],\n",
       "       [-0.88640526, -1.56522989, -1.11909855],\n",
       "       [-0.88640526,  0.82356573, -1.06007436],\n",
       "       [-0.88640526, -0.54146034, -1.06007436],\n",
       "       [-0.88640526,  0.14105269, -1.00105018],\n",
       "       [-0.88640526, -1.67898207, -1.00105018],\n",
       "       [-0.88640526,  0.59606138, -0.94202599],\n",
       "       [ 1.12815215, -1.22397338, -0.94202599],\n",
       "       [ 1.12815215,  1.50607876, -0.88300181],\n",
       "       [-0.88640526, -0.42770817, -0.88300181],\n",
       "       [-0.88640526,  1.61983094, -0.88300181],\n",
       "       [-0.88640526, -1.22397338, -0.88300181],\n",
       "       [-0.88640526,  1.73358311, -0.82397762],\n",
       "       [-0.88640526, -0.88271686, -0.82397762],\n",
       "       [-0.88640526, -0.65521251, -0.82397762],\n",
       "       [-0.88640526, -0.42770817, -0.82397762],\n",
       "       [-0.88640526,  1.61983094, -0.76495344],\n",
       "       [ 1.12815215, -0.20020382, -0.76495344],\n",
       "       [-0.88640526, -0.42770817, -0.70592925],\n",
       "       [ 1.12815215,  0.59606138, -0.70592925],\n",
       "       [-0.88640526,  1.73358311, -0.70592925],\n",
       "       [ 1.12815215,  1.39232659, -0.70592925],\n",
       "       [-0.88640526,  0.59606138, -0.64690507],\n",
       "       [ 1.12815215,  0.59606138, -0.64690507],\n",
       "       [-0.88640526, -0.88271686, -0.58788088],\n",
       "       [ 1.12815215,  0.59606138, -0.58788088],\n",
       "       [ 1.12815215,  0.59606138, -0.58788088],\n",
       "       [ 1.12815215, -1.79273424, -0.58788088],\n",
       "       [-0.88640526,  0.59606138, -0.5288567 ],\n",
       "       [-0.88640526,  0.59606138, -0.5288567 ],\n",
       "       [ 1.12815215,  0.59606138, -0.46983251],\n",
       "       [ 1.12815215, -1.90648641, -0.46983251],\n",
       "       [-0.88640526,  0.9373179 , -0.46983251],\n",
       "       [-0.88640526,  0.59606138, -0.46983251],\n",
       "       [ 1.12815215, -1.79273424, -0.46983251],\n",
       "       [-0.88640526, -0.313956  , -0.46983251],\n",
       "       [ 1.12815215,  0.59606138, -0.41080833],\n",
       "       [-0.88640526,  1.39232659, -0.41080833],\n",
       "       [-0.88640526,  0.59606138, -0.35178414],\n",
       "       [-0.88640526,  0.59606138, -0.35178414],\n",
       "       [ 1.12815215,  0.59606138, -0.29275996],\n",
       "       [ 1.12815215, -0.99646903, -0.29275996],\n",
       "       [-0.88640526,  1.16482225, -0.29275996],\n",
       "       [ 1.12815215,  0.59606138, -0.29275996],\n",
       "       [-0.88640526, -1.33772555, -0.29275996],\n",
       "       [-0.88640526,  1.61983094, -0.29275996],\n",
       "       [ 1.12815215,  0.59606138, -0.29275996],\n",
       "       [ 1.12815215,  0.36855704, -0.29275996],\n",
       "       [ 1.12815215,  0.59606138, -0.29275996],\n",
       "       [-0.88640526,  1.27857442, -0.29275996],\n",
       "       [-0.88640526, -1.56522989, -0.29275996],\n",
       "       [ 1.12815215,  1.50607876, -0.29275996],\n",
       "       [-0.88640526,  0.59606138, -0.23373577],\n",
       "       [-0.88640526, -1.45147772, -0.23373577],\n",
       "       [-0.88640526, -0.08645165, -0.17471159],\n",
       "       [-0.88640526,  1.73358311, -0.17471159],\n",
       "       [-0.88640526,  0.59606138, -0.1156874 ],\n",
       "       [ 1.12815215, -1.90648641, -0.1156874 ],\n",
       "       [ 1.12815215,  1.50607876, -0.05666322],\n",
       "       [-0.88640526,  0.59606138, -0.05666322],\n",
       "       [-0.88640526, -0.313956  , -0.05666322],\n",
       "       [ 1.12815215, -1.22397338, -0.05666322],\n",
       "       [-0.88640526,  1.39232659, -0.05666322],\n",
       "       [-0.88640526, -0.88271686, -0.05666322],\n",
       "       [ 1.12815215,  1.50607876,  0.00236097],\n",
       "       [ 1.12815215, -1.67898207,  0.00236097],\n",
       "       [-0.88640526, -1.33772555,  0.06138515],\n",
       "       [-0.88640526,  1.61983094,  0.06138515],\n",
       "       [ 1.12815215,  0.59606138,  0.06138515],\n",
       "       [ 1.12815215, -0.99646903,  0.06138515],\n",
       "       [ 1.12815215,  1.61983094,  0.06138515],\n",
       "       [-0.88640526, -1.56522989,  0.06138515],\n",
       "       [-0.88640526,  0.59606138,  0.12040934],\n",
       "       [ 1.12815215,  0.59606138,  0.12040934],\n",
       "       [ 1.12815215,  0.59606138,  0.12040934],\n",
       "       [ 1.12815215,  0.59606138,  0.12040934],\n",
       "       [ 1.12815215,  0.59606138,  0.12040934],\n",
       "       [-0.88640526, -1.79273424,  0.12040934],\n",
       "       [-0.88640526,  0.36855704,  0.17943352],\n",
       "       [ 1.12815215, -1.79273424,  0.17943352],\n",
       "       [-0.88640526, -1.90648641,  0.23845771],\n",
       "       [-0.88640526, -1.79273424,  0.23845771],\n",
       "       [-0.88640526,  0.59606138,  0.23845771],\n",
       "       [-0.88640526,  1.61983094,  0.23845771],\n",
       "       [-0.88640526,  0.59606138,  0.29748189],\n",
       "       [-0.88640526,  1.73358311,  0.29748189],\n",
       "       [ 1.12815215, -0.88271686,  0.29748189],\n",
       "       [-0.88640526,  0.36855704,  0.29748189],\n",
       "       [-0.88640526,  0.59606138,  0.35650608],\n",
       "       [ 1.12815215,  0.48230921,  0.35650608],\n",
       "       [-0.88640526, -1.33772555,  0.41553026],\n",
       "       [-0.88640526, -0.42770817,  0.41553026],\n",
       "       [ 1.12815215,  0.9373179 ,  0.47455445],\n",
       "       [ 1.12815215,  0.59606138,  0.47455445],\n",
       "       [ 1.12815215,  0.59606138,  0.47455445],\n",
       "       [ 1.12815215,  0.36855704,  0.47455445],\n",
       "       [ 1.12815215,  1.39232659,  0.47455445],\n",
       "       [ 1.12815215,  0.48230921,  0.47455445],\n",
       "       [-0.88640526, -1.1102212 ,  0.53357863],\n",
       "       [-0.88640526, -0.42770817,  0.53357863],\n",
       "       [ 1.12815215, -1.67898207,  0.59260282],\n",
       "       [-0.88640526, -0.65521251,  0.59260282],\n",
       "       [-0.88640526,  1.05107007,  0.59260282],\n",
       "       [ 1.12815215, -0.313956  ,  0.59260282],\n",
       "       [ 1.12815215, -1.79273424,  0.651627  ],\n",
       "       [-0.88640526,  0.02730052,  0.651627  ],\n",
       "       [-0.88640526,  0.59606138,  0.71065119],\n",
       "       [ 1.12815215, -0.313956  ,  0.71065119],\n",
       "       [-0.88640526, -0.76896469,  0.76967537],\n",
       "       [-0.88640526, -0.313956  ,  0.76967537],\n",
       "       [ 1.12815215, -1.1102212 ,  0.82869956],\n",
       "       [ 1.12815215, -0.76896469,  0.82869956],\n",
       "       [ 1.12815215,  1.50607876,  0.82869956],\n",
       "       [-0.88640526, -0.313956  ,  0.82869956],\n",
       "       [-0.88640526, -0.08645165,  0.88772374],\n",
       "       [ 1.12815215, -0.08645165,  0.88772374],\n",
       "       [ 1.12815215,  0.9373179 ,  0.88772374],\n",
       "       [ 1.12815215,  0.48230921,  0.88772374],\n",
       "       [-0.88640526,  1.05107007,  0.88772374],\n",
       "       [-0.88640526,  0.36855704,  0.88772374],\n",
       "       [-0.88640526,  1.39232659,  0.88772374],\n",
       "       [-0.88640526, -0.88271686,  0.88772374],\n",
       "       [ 1.12815215,  0.25480487,  0.88772374],\n",
       "       [-0.88640526, -0.54146034,  0.88772374],\n",
       "       [ 1.12815215, -0.08645165,  0.88772374],\n",
       "       [-0.88640526, -0.54146034,  0.88772374],\n",
       "       [-0.88640526,  0.59606138,  0.94674793],\n",
       "       [-0.88640526, -0.65521251,  0.94674793],\n",
       "       [ 1.12815215, -1.79273424,  1.00577211],\n",
       "       [-0.88640526, -0.42770817,  1.00577211],\n",
       "       [ 1.12815215,  1.73358311,  1.0647963 ],\n",
       "       [-0.88640526,  0.14105269,  1.0647963 ],\n",
       "       [ 1.12815215,  0.82356573,  1.12382048],\n",
       "       [-0.88640526, -0.20020382,  1.12382048],\n",
       "       [-0.88640526,  0.14105269,  1.18284467],\n",
       "       [ 1.12815215, -0.313956  ,  1.18284467],\n",
       "       [ 1.12815215,  0.59606138,  1.18284467],\n",
       "       [ 1.12815215, -0.76896469,  1.18284467],\n",
       "       [ 1.12815215,  0.14105269,  1.18284467],\n",
       "       [ 1.12815215,  0.14105269,  1.18284467],\n",
       "       [-0.88640526,  0.59606138,  1.24186885],\n",
       "       [-0.88640526, -0.54146034,  1.24186885],\n",
       "       [ 1.12815215,  0.59606138,  1.24186885],\n",
       "       [ 1.12815215, -0.88271686,  1.24186885],\n",
       "       [ 1.12815215,  0.59606138,  1.30089304],\n",
       "       [ 1.12815215,  0.02730052,  1.30089304],\n",
       "       [-0.88640526,  0.25480487,  1.35991722],\n",
       "       [-0.88640526, -0.313956  ,  1.35991722],\n",
       "       [ 1.12815215,  1.27857442,  1.41894141],\n",
       "       [-0.88640526, -0.65521251,  1.41894141],\n",
       "       [-0.88640526,  0.70981356,  1.47796559],\n",
       "       [ 1.12815215, -0.54146034,  1.47796559],\n",
       "       [-0.88640526,  0.59606138,  1.53698978],\n",
       "       [ 1.12815215, -0.76896469,  1.53698978],\n",
       "       [-0.88640526,  0.70981356,  1.59601396],\n",
       "       [-0.88640526,  0.14105269,  1.59601396],\n",
       "       [-0.88640526, -0.08645165,  1.59601396],\n",
       "       [-0.88640526, -0.313956  ,  1.59601396],\n",
       "       [ 1.12815215, -0.20020382,  1.65503815],\n",
       "       [-0.88640526,  0.36855704,  1.65503815],\n",
       "       [-0.88640526,  1.39232659,  1.71406233],\n",
       "       [-0.88640526,  0.02730052,  1.71406233],\n",
       "       [-0.88640526,  1.16482225,  1.77308652],\n",
       "       [ 1.12815215, -0.313956  ,  1.77308652],\n",
       "       [ 1.12815215, -0.313956  ,  1.83211071],\n",
       "       [ 1.12815215, -0.54146034,  1.83211071]])"
      ]
     },
     "execution_count": 66,
     "metadata": {},
     "output_type": "execute_result"
    }
   ],
   "source": [
    "h=scale(l)\n",
    "h"
   ]
  },
  {
   "cell_type": "markdown",
   "id": "4a2572bd",
   "metadata": {},
   "source": [
    "# Split the data into training and testing"
   ]
  },
  {
   "cell_type": "code",
   "execution_count": 67,
   "id": "9904804d",
   "metadata": {},
   "outputs": [],
   "source": [
    "from sklearn.model_selection import train_test_split"
   ]
  },
  {
   "cell_type": "code",
   "execution_count": 68,
   "id": "5229a2ef",
   "metadata": {},
   "outputs": [],
   "source": [
    "X_train,X_test,Y_train,Y_test = train_test_split(h,y,test_size=0.2,random_state=42)"
   ]
  },
  {
   "cell_type": "code",
   "execution_count": 69,
   "id": "5c73465a",
   "metadata": {},
   "outputs": [
    {
     "name": "stdout",
     "output_type": "stream",
     "text": [
      "(160, 3) (40, 3)\n"
     ]
    }
   ],
   "source": [
    "print(X_train.shape,X_test.shape)"
   ]
  },
  {
   "cell_type": "markdown",
   "id": "58e2d47c",
   "metadata": {},
   "source": [
    "# Build the Model"
   ]
  },
  {
   "cell_type": "code",
   "execution_count": 70,
   "id": "46daa5af",
   "metadata": {},
   "outputs": [],
   "source": [
    "from sklearn.neighbors import KNeighborsClassifier"
   ]
  },
  {
   "cell_type": "code",
   "execution_count": 71,
   "id": "a842d0d3",
   "metadata": {},
   "outputs": [],
   "source": [
    "knn = KNeighborsClassifier(n_neighbors=5)"
   ]
  },
  {
   "cell_type": "code",
   "execution_count": 72,
   "id": "2a63f3de",
   "metadata": {},
   "outputs": [
    {
     "data": {
      "text/plain": [
       "KNeighborsClassifier()"
      ]
     },
     "execution_count": 72,
     "metadata": {},
     "output_type": "execute_result"
    }
   ],
   "source": [
    "knn"
   ]
  },
  {
   "cell_type": "markdown",
   "id": "9e922b58",
   "metadata": {},
   "source": [
    "# Train the Model"
   ]
  },
  {
   "cell_type": "code",
   "execution_count": 73,
   "id": "00c7c5fa",
   "metadata": {},
   "outputs": [
    {
     "data": {
      "text/plain": [
       "KNeighborsClassifier()"
      ]
     },
     "execution_count": 73,
     "metadata": {},
     "output_type": "execute_result"
    }
   ],
   "source": [
    "knn.fit(X_train,Y_train)"
   ]
  },
  {
   "cell_type": "markdown",
   "id": "29dd388c",
   "metadata": {},
   "source": [
    "# Test the Model"
   ]
  },
  {
   "cell_type": "code",
   "execution_count": 74,
   "id": "91bba36c",
   "metadata": {},
   "outputs": [],
   "source": [
    "pred = knn.predict(X_test)"
   ]
  },
  {
   "cell_type": "code",
   "execution_count": 75,
   "id": "23a16c9a",
   "metadata": {},
   "outputs": [
    {
     "data": {
      "text/plain": [
       "array([0, 0, 2, 3, 3, 4, 4, 2, 1, 4, 1, 2, 3, 4, 1, 3, 1, 1, 2, 0, 4, 4,\n",
       "       3, 1, 0, 2, 4, 1, 3, 3, 4, 2, 2, 0, 2, 2, 3, 3, 2, 1])"
      ]
     },
     "execution_count": 75,
     "metadata": {},
     "output_type": "execute_result"
    }
   ],
   "source": [
    "pred"
   ]
  },
  {
   "cell_type": "markdown",
   "id": "f4e154fd",
   "metadata": {},
   "source": [
    "# Measure the performance using Evaluation Metrics"
   ]
  },
  {
   "cell_type": "code",
   "execution_count": 76,
   "id": "44901a5e",
   "metadata": {},
   "outputs": [],
   "source": [
    "from sklearn.metrics import accuracy_score,precision_score,confusion_matrix"
   ]
  },
  {
   "cell_type": "code",
   "execution_count": 77,
   "id": "3e42ae36",
   "metadata": {},
   "outputs": [
    {
     "name": "stdout",
     "output_type": "stream",
     "text": [
      "Accuracy score: 0.9\n"
     ]
    }
   ],
   "source": [
    "print(\"Accuracy score:\",accuracy_score(Y_test,pred))"
   ]
  },
  {
   "cell_type": "code",
   "execution_count": 78,
   "id": "806d4b0b",
   "metadata": {},
   "outputs": [
    {
     "name": "stdout",
     "output_type": "stream",
     "text": [
      "Precision score: 0.9111111111111111\n"
     ]
    }
   ],
   "source": [
    "print(\"Precision score:\",precision_score(Y_test,pred,average = \"macro\"))"
   ]
  },
  {
   "cell_type": "code",
   "execution_count": 79,
   "id": "7a901962",
   "metadata": {},
   "outputs": [
    {
     "data": {
      "image/png": "[encoded data removed]",
      "text/plain": [
       "<Figure size 432x288 with 2 Axes>"
      ]
     },
     "metadata": {
      "needs_background": "light"
     },
     "output_type": "display_data"
    }
   ],
   "source": [
    "cf=confusion_matrix(Y_test,pred)\n",
    "sb.heatmap(cf,cmap='coolwarm',annot=True)\n",
    "plt.xlabel(\"Prediction\")\n",
    "plt.ylabel(\"Actual\")\n",
    "plt.show()\n"
   ]
  },
  {
   "cell_type": "markdown",
   "id": "81abd865",
   "metadata": {},
   "source": [
    "# Perform Metrics"
   ]
  },
  {
   "cell_type": "code",
   "execution_count": 80,
   "id": "7419868d",
   "metadata": {},
   "outputs": [],
   "source": [
    "from sklearn.metrics import mean_absolute_error,mean_squared_error,r2_score"
   ]
  },
  {
   "cell_type": "code",
   "execution_count": 81,
   "id": "4ce6a595",
   "metadata": {},
   "outputs": [
    {
     "name": "stdout",
     "output_type": "stream",
     "text": [
      "r2_score : 0.8994252873563219\n",
      "MSE : 0.175\n",
      "MAE : 0.125\n",
      "RMSE : 0.4183300132670378\n"
     ]
    }
   ],
   "source": [
    "print(\"r2_score :\",r2_score(Y_test,pred))\n",
    "print(\"MSE :\",mean_squared_error(Y_test,pred))\n",
    "print(\"MAE :\",mean_absolute_error(Y_test,pred))\n",
    "print(\"RMSE :\",np.sqrt(mean_squared_error(Y_test,pred)))"
   ]
  }
 ],
 "metadata": {
  "kernelspec": {
   "display_name": "Python 3 (ipykernel)",
   "language": "python",
   "name": "python3"
  },
  "language_info": {
   "codemirror_mode": {
    "name": "ipython",
    "version": 3
   },
   "file_extension": ".py",
   "mimetype": "text/x-python",
   "name": "python",
   "nbconvert_exporter": "python",
   "pygments_lexer": "ipython3",
   "version": "3.9.12"
  }
 },
 "nbformat": 4,
 "nbformat_minor": 5
}
