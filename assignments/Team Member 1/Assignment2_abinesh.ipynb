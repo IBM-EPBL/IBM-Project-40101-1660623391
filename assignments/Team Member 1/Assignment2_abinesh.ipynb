{
 "cells": [
  {
   "cell_type": "code",
   "execution_count": null,
   "id": "8141654d",
   "metadata": {},
   "outputs": [],
   "source": [
    "import pandas as pd\n",
    "import numpy as np\n",
    "import sklearn.preprocessing\n",
    "from sklearn.preprocessing import MinMaxScaler\n",
    "from sklearn.metrics import confusion_matrix,accuracy_score\n",
    "import matplotlib.pyplot as plt\n",
    "import seaborn as sns"
   ]
  },
  {
   "cell_type": "code",
   "execution_count": null,
   "id": "d7f1a157",
   "metadata": {},
   "outputs": [],
   "source": [
    "#import the dataset\n",
    "dataset=pd.read_csv(\"Churn_Modelling.csv\")\n",
    "\n",
    "dataset.head()"
   ]
  },
  {
   "cell_type": "code",
   "execution_count": null,
   "id": "2f629837",
   "metadata": {},
   "outputs": [],
   "source": [
    "dataset.tail()"
   ]
  },
  {
   "cell_type": "code",
   "execution_count": null,
   "id": "cf5ef945",
   "metadata": {},
   "outputs": [],
   "source": [
    "dataset.describe()"
   ]
  },
  {
   "cell_type": "markdown",
   "id": "25d4d738",
   "metadata": {},
   "source": [
    "# univariate analysis"
   ]
  },
  {
   "cell_type": "code",
   "execution_count": null,
   "id": "28a45f50",
   "metadata": {},
   "outputs": [],
   "source": [
    "#histogram\n",
    "\n",
    "sns.distplot(dataset['CustomerId'],kde=False)\n"
   ]
  },
  {
   "cell_type": "code",
   "execution_count": null,
   "id": "2283a058",
   "metadata": {},
   "outputs": [],
   "source": [
    "#count plot\n",
    "sns.countplot(x='CreditScore',data=dataset)"
   ]
  },
  {
   "cell_type": "markdown",
   "id": "237f24ba",
   "metadata": {},
   "source": [
    "# bivariate analysis"
   ]
  },
  {
   "cell_type": "code",
   "execution_count": null,
   "id": "275cbc98",
   "metadata": {},
   "outputs": [],
   "source": [
    "#barchart\n",
    "sns.barplot(x='Surname',y='CreditScore', data=dataset)"
   ]
  },
  {
   "cell_type": "code",
   "execution_count": null,
   "id": "94185528",
   "metadata": {},
   "outputs": [],
   "source": [
    "#box plot\n",
    "\n",
    "sns.boxplot(data=dataset, x='Surname',y='CreditScore')"
   ]
  },
  {
   "cell_type": "code",
   "execution_count": null,
   "id": "7a764f33",
   "metadata": {},
   "outputs": [],
   "source": [
    "#regression plot\n",
    "\n",
    "sns.lmplot(x='EstimatedSalary',y='Balance',data=dataset)"
   ]
  },
  {
   "cell_type": "markdown",
   "id": "0d5eb47f",
   "metadata": {},
   "source": [
    "# Multivariate Analysis"
   ]
  },
  {
   "cell_type": "code",
   "execution_count": null,
   "id": "d39505ba",
   "metadata": {},
   "outputs": [],
   "source": [
    "sns.pairplot(dataset)"
   ]
  },
  {
   "cell_type": "markdown",
   "id": "e0243cec",
   "metadata": {},
   "source": [
    "# descriptive statistics on the dataset"
   ]
  },
  {
   "cell_type": "code",
   "execution_count": null,
   "id": "82aaaab8",
   "metadata": {},
   "outputs": [],
   "source": [
    "dataset = pd.read_csv(\"Churn_Modelling.csv\")\n",
    "dataset.head()"
   ]
  },
  {
   "cell_type": "code",
   "execution_count": null,
   "id": "c3ec81f2",
   "metadata": {},
   "outputs": [],
   "source": [
    "dataset.tail()"
   ]
  },
  {
   "cell_type": "code",
   "execution_count": null,
   "id": "b37f7688",
   "metadata": {},
   "outputs": [],
   "source": [
    "dataset.info()"
   ]
  },
  {
   "cell_type": "code",
   "execution_count": null,
   "id": "a3fa28df",
   "metadata": {},
   "outputs": [],
   "source": [
    "#mean\n",
    "dataset.mean()"
   ]
  },
  {
   "cell_type": "code",
   "execution_count": null,
   "id": "e0419a02",
   "metadata": {},
   "outputs": [],
   "source": [
    "#median\n",
    "dataset.median()"
   ]
  },
  {
   "cell_type": "code",
   "execution_count": null,
   "id": "a7de057d",
   "metadata": {},
   "outputs": [],
   "source": [
    "#mode\n",
    "\n",
    "dataset.mode()"
   ]
  },
  {
   "cell_type": "markdown",
   "id": "fbdd0544",
   "metadata": {},
   "source": [
    "# handle the missing values"
   ]
  },
  {
   "cell_type": "code",
   "execution_count": null,
   "id": "e6692f58",
   "metadata": {},
   "outputs": [],
   "source": [
    "dataset.isna()"
   ]
  },
  {
   "cell_type": "code",
   "execution_count": null,
   "id": "ea5764e5",
   "metadata": {},
   "outputs": [],
   "source": [
    "dataset.isna().any()"
   ]
  },
  {
   "cell_type": "code",
   "execution_count": null,
   "id": "508031ea",
   "metadata": {},
   "outputs": [],
   "source": [
    "#skewness\n",
    "\n",
    "dataset.skew()"
   ]
  },
  {
   "cell_type": "code",
   "execution_count": null,
   "id": "ea485b76",
   "metadata": {},
   "outputs": [],
   "source": [
    "print(sns.distplot(dataset['Age']))"
   ]
  },
  {
   "cell_type": "code",
   "execution_count": null,
   "id": "7d5179f4",
   "metadata": {},
   "outputs": [],
   "source": [
    "dataset.kurt()"
   ]
  },
  {
   "cell_type": "code",
   "execution_count": null,
   "id": "92d1bc34",
   "metadata": {},
   "outputs": [],
   "source": [
    "dataset.var()"
   ]
  },
  {
   "cell_type": "code",
   "execution_count": null,
   "id": "d0f04cd1",
   "metadata": {},
   "outputs": [],
   "source": [
    "dataset.std()"
   ]
  },
  {
   "cell_type": "markdown",
   "id": "3a291450",
   "metadata": {},
   "source": [
    "# find the outlier and replace the outliers"
   ]
  },
  {
   "cell_type": "code",
   "execution_count": null,
   "id": "d96dce79",
   "metadata": {},
   "outputs": [],
   "source": [
    "sns.boxplot(dataset['Age'])"
   ]
  },
  {
   "cell_type": "code",
   "execution_count": null,
   "id": "7f778197",
   "metadata": {},
   "outputs": [],
   "source": [
    "qnt=dataset.quantile(q=(0.30,0.45))\n",
    "\n",
    "qnt"
   ]
  },
  {
   "cell_type": "code",
   "execution_count": null,
   "id": "824ab608",
   "metadata": {},
   "outputs": [],
   "source": [
    "iqr =qnt.loc[0.45]-qnt.loc[0.30] #iqr calculation\n",
    "iqr"
   ]
  },
  {
   "cell_type": "code",
   "execution_count": null,
   "id": "bb509b02",
   "metadata": {},
   "outputs": [],
   "source": [
    "#lower extreme values\n",
    "lower=qnt.loc[0.30]-1.5*iqr\n",
    "lower"
   ]
  },
  {
   "cell_type": "code",
   "execution_count": null,
   "id": "c0830323",
   "metadata": {},
   "outputs": [],
   "source": [
    "#upper extreme values\n",
    "upper=qnt.loc[0.45]+1.5*iqr\n",
    "upper"
   ]
  },
  {
   "cell_type": "markdown",
   "id": "dc681549",
   "metadata": {},
   "source": [
    "# Replacing the outlier"
   ]
  },
  {
   "cell_type": "code",
   "execution_count": null,
   "id": "1045b15d",
   "metadata": {},
   "outputs": [],
   "source": [
    "dataset['Age']=np.where(dataset['Age']>45,31,dataset['Age'])"
   ]
  },
  {
   "cell_type": "code",
   "execution_count": null,
   "id": "f0fef90f",
   "metadata": {},
   "outputs": [],
   "source": [
    "sns.boxplot(dataset['Age'])"
   ]
  },
  {
   "cell_type": "markdown",
   "id": "33ab708c",
   "metadata": {},
   "source": [
    "# Check for Categorical columns and perform encoding."
   ]
  },
  {
   "cell_type": "code",
   "execution_count": null,
   "id": "f5f79672",
   "metadata": {},
   "outputs": [],
   "source": [
    "dataset=pd.read_csv(\"Churn_Modelling.csv\")\n",
    "\n",
    "dataset.head()"
   ]
  },
  {
   "cell_type": "code",
   "execution_count": null,
   "id": "7aa77b0a",
   "metadata": {},
   "outputs": [],
   "source": [
    "#manually handling the categorical columns\n",
    "\n",
    "dataset['Gender'].replace( {'Female':1,'Male':0},inplace=True)\n",
    "\n",
    "dataset['Geography'].replace( {'France':1,'Spain':0},inplace=True)\n",
    "\n",
    "dataset.head()"
   ]
  },
  {
   "cell_type": "markdown",
   "id": "b06e3a9c",
   "metadata": {},
   "source": [
    "# Split the data into dependent and independent variables."
   ]
  },
  {
   "cell_type": "code",
   "execution_count": null,
   "id": "9b77f3ad",
   "metadata": {},
   "outputs": [],
   "source": [
    "#target variable\n",
    "\n",
    "y=dataset['Balance']\n",
    "y.head()"
   ]
  },
  {
   "cell_type": "code",
   "execution_count": null,
   "id": "1df68028",
   "metadata": {},
   "outputs": [],
   "source": [
    "#independent\n",
    "\n",
    "x = dataset.drop(columns=['Balance'],axis=1)\n",
    "\n",
    "x.head()"
   ]
  },
  {
   "cell_type": "code",
   "execution_count": null,
   "id": "79f81cbe",
   "metadata": {},
   "outputs": [],
   "source": [
    "dataset=pd.get_dummies(dataset,columns=['Balance'])\n",
    "\n",
    "dataset.head()"
   ]
  },
  {
   "cell_type": "markdown",
   "id": "2b2ae98a",
   "metadata": {},
   "source": [
    "# Scale the independent variables"
   ]
  },
  {
   "cell_type": "code",
   "execution_count": null,
   "id": "7fa47ea8",
   "metadata": {
    "scrolled": true
   },
   "outputs": [],
   "source": [
    "from sklearn.preprocessing import scale"
   ]
  },
  {
   "cell_type": "code",
   "execution_count": null,
   "id": "0038c482",
   "metadata": {},
   "outputs": [],
   "source": [
    "x"
   ]
  },
  {
   "cell_type": "code",
   "execution_count": null,
   "id": "c9d4c388",
   "metadata": {},
   "outputs": [],
   "source": [
    "x.mean()"
   ]
  },
  {
   "cell_type": "code",
   "execution_count": null,
   "id": "1bab2c01",
   "metadata": {},
   "outputs": [],
   "source": [
    "x.std()"
   ]
  },
  {
   "cell_type": "markdown",
   "id": "681e7a14",
   "metadata": {},
   "source": [
    "# Split the data into training and testing"
   ]
  },
  {
   "cell_type": "code",
   "execution_count": null,
   "id": "910d544a",
   "metadata": {},
   "outputs": [],
   "source": [
    "from sklearn.model_selection import train_test_split"
   ]
  },
  {
   "cell_type": "code",
   "execution_count": null,
   "id": "fa783118",
   "metadata": {},
   "outputs": [],
   "source": [
    "x_train,x_test,y_train,y_test = train_test_split(x,y,test_size=0.2,random_state=0)"
   ]
  },
  {
   "cell_type": "code",
   "execution_count": null,
   "id": "411a1e65",
   "metadata": {},
   "outputs": [],
   "source": [
    "x_train.shape"
   ]
  },
  {
   "cell_type": "code",
   "execution_count": null,
   "id": "3cbbee37",
   "metadata": {},
   "outputs": [],
   "source": [
    "x_test.shape"
   ]
  },
  {
   "cell_type": "code",
   "execution_count": null,
   "id": "1f1690c8",
   "metadata": {},
   "outputs": [],
   "source": [
    "y_train.shape"
   ]
  },
  {
   "cell_type": "code",
   "execution_count": null,
   "id": "3d84305e",
   "metadata": {},
   "outputs": [],
   "source": [
    "y_test.shape"
   ]
  },
  {
   "cell_type": "code",
   "execution_count": null,
   "id": "de41e5d6",
   "metadata": {},
   "outputs": [],
   "source": []
  }
 ],
 "metadata": {
  "kernelspec": {
   "display_name": "Python 3 (ipykernel)",
   "language": "python",
   "name": "python3"
  },
  "language_info": {
   "codemirror_mode": {
    "name": "ipython",
    "version": 3
   },
   "file_extension": ".py",
   "mimetype": "text/x-python",
   "name": "python",
   "nbconvert_exporter": "python",
   "pygments_lexer": "ipython3",
   "version": "3.9.12"
  }
 },
 "nbformat": 4,
 "nbformat_minor": 5
}
